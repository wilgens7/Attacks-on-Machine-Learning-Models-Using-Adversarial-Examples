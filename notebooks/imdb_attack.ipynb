{
 "cells": [
  {
   "cell_type": "markdown",
   "metadata": {
    "colab_type": "text",
    "id": "7MeHKI2hHch_"
   },
   "source": [
    "##Setup"
   ]
  },
  {
   "cell_type": "code",
   "execution_count": null,
   "metadata": {
    "colab": {},
    "colab_type": "code",
    "id": "7eOtU6kTFU1J"
   },
   "outputs": [],
   "source": [
    "\n",
    "import numpy as np\n",
    "import tensorflow as tf\n",
    "from tensorflow.keras.preprocessing import sequence\n",
    "from tensorflow.keras.models import Sequential\n",
    "from tensorflow.keras.layers import Embedding, LSTM, AvgPool1D, Dense, Softmax\n",
    "from tensorflow.keras.datasets import imdb\n"
   ]
  },
  {
   "cell_type": "markdown",
   "metadata": {
    "colab_type": "text",
    "id": "sMwMakT0HgCG"
   },
   "source": [
    "##Data"
   ]
  },
  {
   "cell_type": "code",
   "execution_count": null,
   "metadata": {
    "colab": {
     "base_uri": "https://localhost:8080/",
     "height": 158
    },
    "colab_type": "code",
    "executionInfo": {
     "elapsed": 7559,
     "status": "ok",
     "timestamp": 1588582108756,
     "user": {
      "displayName": "Wilgens Pierre",
      "photoUrl": "https://lh3.googleusercontent.com/a-/AOh14GgumIEKNfGbZlUccvDManEqHE3rhTkHXXrbF1KIKA=s64",
      "userId": "07241808474085975022"
     },
     "user_tz": 240
    },
    "id": "merQQsQTHPFm",
    "outputId": "6ea48dd9-7c47-44fe-d09a-b4ace4e8080c"
   },
   "outputs": [
    {
     "name": "stdout",
     "output_type": "stream",
     "text": [
      "Loading data...\n",
      "Downloading data from https://storage.googleapis.com/tensorflow/tf-keras-datasets/imdb.npz\n",
      "17465344/17464789 [==============================] - 0s 0us/step\n",
      "25000 train sequences\n",
      "25000 test sequences\n",
      "Pad sequences (samples x time)\n",
      "x_train shape: (25000, 80)\n",
      "x_test shape: (25000, 80)\n"
     ]
    }
   ],
   "source": [
    "max_features = 20000\n",
    "# cut texts after this number of words (among top max_features most common words)\n",
    "maxlen = 80\n",
    "batch_size = 32\n",
    "\n",
    "print('Loading data...')\n",
    "(x_train, y_train), (x_test, y_test) = imdb.load_data(num_words=max_features)\n",
    "\n",
    "print(len(x_train), 'train sequences')\n",
    "print(len(x_test), 'test sequences')\n",
    "\n",
    "print('Pad sequences (samples x time)')\n",
    "x_train = sequence.pad_sequences(x_train, maxlen=maxlen)\n",
    "x_test = sequence.pad_sequences(x_test, maxlen=maxlen)\n",
    "\n",
    "print('x_train shape:', x_train.shape)\n",
    "print('x_test shape:', x_test.shape)"
   ]
  },
  {
   "cell_type": "code",
   "execution_count": null,
   "metadata": {
    "colab": {
     "base_uri": "https://localhost:8080/",
     "height": 52
    },
    "colab_type": "code",
    "executionInfo": {
     "elapsed": 7996,
     "status": "ok",
     "timestamp": 1588582109219,
     "user": {
      "displayName": "Wilgens Pierre",
      "photoUrl": "https://lh3.googleusercontent.com/a-/AOh14GgumIEKNfGbZlUccvDManEqHE3rhTkHXXrbF1KIKA=s64",
      "userId": "07241808474085975022"
     },
     "user_tz": 240
    },
    "id": "IOW6HoOaLxhX",
    "outputId": "0622cfb1-5623-4d96-d572-e9bde3521b33"
   },
   "outputs": [
    {
     "name": "stdout",
     "output_type": "stream",
     "text": [
      "Training set size: (2000, 80)\n",
      "Test set size (100, 80)\n"
     ]
    }
   ],
   "source": [
    "#Preparing Train and Test Subet set\n",
    "from sklearn.model_selection import train_test_split\n",
    "\n",
    "x_train_sub, _,y_train_sub,_ = train_test_split(x_train, y_train, stratify=y_train, train_size=.08, shuffle = True,)\n",
    "x_test_sub, _, y_test_sub,_ = train_test_split(x_test, y_test, stratify=y_train, train_size=.004, shuffle = True,)\n",
    "\n",
    "print('Training set size:',x_train_sub.shape)\n",
    "print('Test set size',x_test_sub.shape)"
   ]
  },
  {
   "cell_type": "markdown",
   "metadata": {
    "colab_type": "text",
    "id": "_T3A8x_nH4SQ"
   },
   "source": [
    "##Word Dictionary"
   ]
  },
  {
   "cell_type": "code",
   "execution_count": null,
   "metadata": {
    "colab": {
     "base_uri": "https://localhost:8080/",
     "height": 52
    },
    "colab_type": "code",
    "executionInfo": {
     "elapsed": 8137,
     "status": "ok",
     "timestamp": 1588582109385,
     "user": {
      "displayName": "Wilgens Pierre",
      "photoUrl": "https://lh3.googleusercontent.com/a-/AOh14GgumIEKNfGbZlUccvDManEqHE3rhTkHXXrbF1KIKA=s64",
      "userId": "07241808474085975022"
     },
     "user_tz": 240
    },
    "id": "4gYN_MKzgM4R",
    "outputId": "9489bb86-88bc-47ba-84e4-0c728fefaf16"
   },
   "outputs": [
    {
     "name": "stdout",
     "output_type": "stream",
     "text": [
      "Downloading data from https://storage.googleapis.com/tensorflow/tf-keras-datasets/imdb_word_index.json\n",
      "1646592/1641221 [==============================] - 0s 0us/step\n"
     ]
    }
   ],
   "source": [
    "#Word Dictionary \n",
    "word_dictionary = imdb.get_word_index()"
   ]
  },
  {
   "cell_type": "code",
   "execution_count": null,
   "metadata": {
    "colab": {},
    "colab_type": "code",
    "id": "GecRnovsB6Bq"
   },
   "outputs": [],
   "source": [
    "index_to_word_dictionary = dict(zip(word_dictionary.values(),word_dictionary.keys()))"
   ]
  },
  {
   "cell_type": "code",
   "execution_count": null,
   "metadata": {
    "colab": {},
    "colab_type": "code",
    "id": "z7qkk7iZuw6m"
   },
   "outputs": [],
   "source": [
    "def index_to_word(index):\n",
    "\n",
    "  if (index > 0) and (index < len(word_dictionary)):\n",
    "\n",
    "    return index_to_word_dictionary.get(index)\n",
    "\n",
    "  return 'not in dictionary'\n",
    "\n",
    "def show_sentence(x):\n",
    "  for j in x:\n",
    "    print(index_to_word(j),' ', end='')\n",
    "  print()"
   ]
  },
  {
   "cell_type": "markdown",
   "metadata": {
    "colab_type": "text",
    "id": "o5TpV5nHHhrl"
   },
   "source": [
    "##Model"
   ]
  },
  {
   "cell_type": "code",
   "execution_count": null,
   "metadata": {
    "colab": {
     "base_uri": "https://localhost:8080/",
     "height": 303
    },
    "colab_type": "code",
    "executionInfo": {
     "elapsed": 8899,
     "status": "ok",
     "timestamp": 1588585009485,
     "user": {
      "displayName": "Wilgens Pierre",
      "photoUrl": "https://lh3.googleusercontent.com/a-/AOh14GgumIEKNfGbZlUccvDManEqHE3rhTkHXXrbF1KIKA=s64",
      "userId": "07241808474085975022"
     },
     "user_tz": 240
    },
    "id": "PQZ9TLcPHMwe",
    "outputId": "7e054959-32fe-44c5-a266-dddda27184e8"
   },
   "outputs": [
    {
     "name": "stdout",
     "output_type": "stream",
     "text": [
      "WARNING:tensorflow:Layer lstm will not use cuDNN kernel since it doesn't meet the cuDNN kernel criteria. It will use generic GPU kernel as fallback when running on GPU\n",
      "Model: \"sequential\"\n",
      "_________________________________________________________________\n",
      "Layer (type)                 Output Shape              Param #   \n",
      "=================================================================\n",
      "embedding (Embedding)        (None, 80, 80)            1600000   \n",
      "_________________________________________________________________\n",
      "lstm (LSTM)                  (None, 80)                51520     \n",
      "_________________________________________________________________\n",
      "dense (Dense)                (None, 1)                 81        \n",
      "=================================================================\n",
      "Total params: 1,651,601\n",
      "Trainable params: 1,651,601\n",
      "Non-trainable params: 0\n",
      "_________________________________________________________________\n"
     ]
    }
   ],
   "source": [
    "#Builiding Model \n",
    "e = Embedding(max_features, 80, input_length=80,mask_zero=True)\n",
    "l = LSTM(80, dropout=0.2, recurrent_dropout=0.2)\n",
    "d = Dense(1, activation='sigmoid') \n",
    "\n",
    "model = Sequential([e,l,d])\n",
    "#model.add(Softmax())\n",
    "\n",
    "# try using different optimizers and different optimizer configs\n",
    "model.compile(loss='binary_crossentropy',\n",
    "              optimizer='adam',\n",
    "              metrics=['accuracy'])\n",
    "\n",
    "\n",
    "model.summary()"
   ]
  },
  {
   "cell_type": "markdown",
   "metadata": {
    "colab_type": "text",
    "id": "jFIVxNB1ZQUn"
   },
   "source": [
    "###Training and Testing"
   ]
  },
  {
   "cell_type": "code",
   "execution_count": null,
   "metadata": {
    "colab": {
     "base_uri": "https://localhost:8080/",
     "height": 158
    },
    "colab_type": "code",
    "executionInfo": {
     "elapsed": 102786,
     "status": "ok",
     "timestamp": 1588365249467,
     "user": {
      "displayName": "Wilgens Pierre",
      "photoUrl": "https://lh3.googleusercontent.com/a-/AOh14GgumIEKNfGbZlUccvDManEqHE3rhTkHXXrbF1KIKA=s64",
      "userId": "07241808474085975022"
     },
     "user_tz": 240
    },
    "id": "vQK6mpPXK2yG",
    "outputId": "bee17d4e-e428-46b3-e243-7cfaf2f5ebae"
   },
   "outputs": [
    {
     "name": "stdout",
     "output_type": "stream",
     "text": [
      "Training...\n",
      "Epoch 1/3\n",
      "63/63 [==============================] - 27s 426ms/step - loss: 0.6723 - accuracy: 0.5745 - val_loss: 0.5983 - val_accuracy: 0.6300\n",
      "Epoch 2/3\n",
      "63/63 [==============================] - 27s 423ms/step - loss: 0.4056 - accuracy: 0.8380 - val_loss: 0.6086 - val_accuracy: 0.8000\n",
      "Epoch 3/3\n",
      "63/63 [==============================] - 27s 423ms/step - loss: 0.1498 - accuracy: 0.9500 - val_loss: 0.6718 - val_accuracy: 0.7500\n"
     ]
    },
    {
     "data": {
      "text/plain": [
       "<tensorflow.python.keras.callbacks.History at 0x7fe7c35f1400>"
      ]
     },
     "execution_count": 9,
     "metadata": {
      "tags": []
     },
     "output_type": "execute_result"
    }
   ],
   "source": [
    "print('Training...')\n",
    "\n",
    "model.fit(x_train_sub, y_train_sub,\n",
    "          batch_size=batch_size,\n",
    "          epochs=3,\n",
    "          validation_data=(x_test_sub, y_test_sub),\n",
    "          callbacks = [])"
   ]
  },
  {
   "cell_type": "code",
   "execution_count": null,
   "metadata": {
    "colab": {
     "base_uri": "https://localhost:8080/",
     "height": 368
    },
    "colab_type": "code",
    "executionInfo": {
     "elapsed": 526,
     "status": "ok",
     "timestamp": 1588585013960,
     "user": {
      "displayName": "Wilgens Pierre",
      "photoUrl": "https://lh3.googleusercontent.com/a-/AOh14GgumIEKNfGbZlUccvDManEqHE3rhTkHXXrbF1KIKA=s64",
      "userId": "07241808474085975022"
     },
     "user_tz": 240
    },
    "id": "HWdmxv44CjpJ",
    "outputId": "6f321c33-ccec-413d-dab5-67b639bffc4a"
   },
   "outputs": [
    {
     "data": {
      "image/png": "[encoded data removed]",
      "text/plain": [
       "<IPython.core.display.Image object>"
      ]
     },
     "execution_count": 20,
     "metadata": {
      "tags": []
     },
     "output_type": "execute_result"
    }
   ],
   "source": [
    "from tensorflow.keras.utils import plot_model\n",
    "\n",
    "plot_model(model)"
   ]
  },
  {
   "cell_type": "code",
   "execution_count": null,
   "metadata": {
    "colab": {
     "base_uri": "https://localhost:8080/",
     "height": 70
    },
    "colab_type": "code",
    "executionInfo": {
     "elapsed": 102896,
     "status": "ok",
     "timestamp": 1588365249602,
     "user": {
      "displayName": "Wilgens Pierre",
      "photoUrl": "https://lh3.googleusercontent.com/a-/AOh14GgumIEKNfGbZlUccvDManEqHE3rhTkHXXrbF1KIKA=s64",
      "userId": "07241808474085975022"
     },
     "user_tz": 240
    },
    "id": "gNu_ZE8pK7Oc",
    "outputId": "9dc8c159-831b-4b66-a431-c90fc7f3edb5"
   },
   "outputs": [
    {
     "name": "stdout",
     "output_type": "stream",
     "text": [
      "4/4 [==============================] - 0s 36ms/step - loss: 0.6718 - accuracy: 0.7500\n",
      "Test score: 0.6718183755874634\n",
      "Test accuracy: 0.75\n"
     ]
    }
   ],
   "source": [
    "\n",
    "score, acc = model.evaluate(x_test_sub, y_test_sub,\n",
    "                            batch_size=batch_size)\n",
    "print('Test score:', score)\n",
    "print('Test accuracy:', acc)"
   ]
  },
  {
   "cell_type": "markdown",
   "metadata": {
    "colab_type": "text",
    "id": "7129lB_bZWtk"
   },
   "source": [
    "##Creating Attack"
   ]
  },
  {
   "cell_type": "code",
   "execution_count": null,
   "metadata": {
    "colab": {},
    "colab_type": "code",
    "id": "yuXuu04wjf4l"
   },
   "outputs": [],
   "source": [
    "##Create Jacobean function\n",
    "\n",
    "def jacobian_for(x):\n",
    "  \"\"\"\n",
    "  Calculate jacobian of logits wrt input.\n",
    "  \"\"\"\n",
    "  x = tf.convert_to_tensor(x,dtype=tf.float32)\n",
    "  x = tf.expand_dims(x,0)\n",
    "\n",
    "  with tf.GradientTape(watch_accessed_variables=False, persistent=True) as tape:\n",
    "  \n",
    "  \n",
    "    tape.watch(e.variables)\n",
    "\n",
    "    y = model(x)\n",
    "\n",
    "  return tf.squeeze(tape.jacobian(y, e.variables, parallel_iterations=100, experimental_use_pfor=False))\n",
    "  "
   ]
  },
  {
   "cell_type": "code",
   "execution_count": null,
   "metadata": {
    "colab": {},
    "colab_type": "code",
    "id": "ZU04ZNP3ZbHW"
   },
   "outputs": [],
   "source": [
    "def convert_to_label(y):\n",
    "  if y[0]<=.5:\n",
    "    y = 0\n",
    "  else:\n",
    "    y = 1\n",
    "  return y\n",
    "\n",
    "\n",
    "def imdb_attack(f, x, D=np.array(list(word_dictionary.values()),dtype='int64'), max_iter=100):\n",
    "\n",
    "  \"\"\"performs attack proposed in Papernot et\n",
    "al, Crafting Adversarial Input Sequences for Recurrent\n",
    "Neural Networks.\"\"\"\n",
    "\n",
    "  y = f.predict(x)\n",
    "\n",
    "  y = convert_to_label(y)\n",
    "\n",
    "  x_ad = x.copy()\n",
    "\n",
    "  ad_prediction = convert_to_label(f.predict(x_ad))\n",
    "\n",
    "  jacobian = jacobian_for(np.squeeze(x))\n",
    "\n",
    "  iteration = 0\n",
    "\n",
    "  while ad_prediction == y:\n",
    "\n",
    "    iteration += 1\n",
    "\n",
    "    if iteration > max_iter:\n",
    "      break\n",
    "\n",
    "    #print('\\niteration:',iteration)\n",
    "\n",
    "    i = np.random.randint(0,80,1)[0]\n",
    "\n",
    "    #print('i:',i)\n",
    "\n",
    "    #==================TODO==============================\n",
    "    # 1. Figure out function for w as described in paper\n",
    "    #\n",
    "    #====================================================\n",
    "    j_x = jacobian[i]\n",
    "\n",
    "    z = tf.argmin(np.sign(D - x_ad[0][i])) #+ 1 #b/c dictionary starts on index 1\n",
    "\n",
    "    w = np.abs(z - np.sign(j_x[i]))\n",
    "\n",
    "\n",
    "    #================================================\n",
    "    #================================================\n",
    "   \n",
    "    #=======DELETE WHEN FUNCTION IS FULLY IMPLEMENTED\n",
    "    if w==None: break \n",
    "    #=======DELETE WHEN FUNCTION IS FULLY IMPLEMENTED\n",
    "    #print('old word:',x_ad[0][i],index_to_word(x_ad[0][i]))\n",
    "\n",
    "    if not w < max_features:\n",
    "      continue\n",
    "\n",
    "    #print('new word:',w,index_to_word(w))\n",
    "\n",
    "    \n",
    "    x_ad[0][i]=w\n",
    "\n",
    "    ad_prediction = convert_to_label(f.predict(x_ad))\n",
    "\n",
    "  #return adversarial example\n",
    "\n",
    "  if ad_prediction != y:\n",
    "    print(' NEW ADVERSARIAL EXAMPLE SUCCESSFULLY CREATED IN',iteration,'ITERATIONS')\n",
    "\n",
    "  return x_ad"
   ]
  },
  {
   "cell_type": "markdown",
   "metadata": {
    "colab_type": "text",
    "id": "-I7txQIBku65"
   },
   "source": [
    "##Testing Attack"
   ]
  },
  {
   "cell_type": "code",
   "execution_count": null,
   "metadata": {
    "colab": {
     "base_uri": "https://localhost:8080/",
     "height": 34
    },
    "colab_type": "code",
    "executionInfo": {
     "elapsed": 332,
     "status": "ok",
     "timestamp": 1588586463798,
     "user": {
      "displayName": "Wilgens Pierre",
      "photoUrl": "https://lh3.googleusercontent.com/a-/AOh14GgumIEKNfGbZlUccvDManEqHE3rhTkHXXrbF1KIKA=s64",
      "userId": "07241808474085975022"
     },
     "user_tz": 240
    },
    "id": "Jc32kbu3HcTa",
    "outputId": "58bdb0f5-99f0-40c7-e807-89f2fb905105"
   },
   "outputs": [
    {
     "data": {
      "text/plain": [
       "35.407407407407405"
      ]
     },
     "execution_count": 27,
     "metadata": {
      "tags": []
     },
     "output_type": "execute_result"
    }
   ],
   "source": [
    "np.average([7,1,19,77,47,2,9,7,66,71,65,27,88,73,15,15,23,10,38,29,28,4,58,35,1,27,25,2,36,66,12,16,30,88,17,41,72,2,77,15,1,62,12,22,59,40,64,57,29,61,11,11,89,53])"
   ]
  },
  {
   "cell_type": "code",
   "execution_count": null,
   "metadata": {
    "colab": {
     "base_uri": "https://localhost:8080/",
     "height": 976
    },
    "colab_type": "code",
    "executionInfo": {
     "elapsed": 468065,
     "status": "ok",
     "timestamp": 1588366774058,
     "user": {
      "displayName": "Wilgens Pierre",
      "photoUrl": "https://lh3.googleusercontent.com/a-/AOh14GgumIEKNfGbZlUccvDManEqHE3rhTkHXXrbF1KIKA=s64",
      "userId": "07241808474085975022"
     },
     "user_tz": 240
    },
    "id": "8ECBqcQObOS2",
    "outputId": "d8176555-6d4c-42ff-9d04-3d4f0d191e63"
   },
   "outputs": [
    {
     "name": "stdout",
     "output_type": "stream",
     "text": [
      " NEW ADVERSARIAL EXAMPLE SUCCESSFULLY CREATED IN 7 ITERATIONS\n",
      " NEW ADVERSARIAL EXAMPLE SUCCESSFULLY CREATED IN 1 ITERATIONS\n",
      " NEW ADVERSARIAL EXAMPLE SUCCESSFULLY CREATED IN 19 ITERATIONS\n",
      " NEW ADVERSARIAL EXAMPLE SUCCESSFULLY CREATED IN 77 ITERATIONS\n",
      " NEW ADVERSARIAL EXAMPLE SUCCESSFULLY CREATED IN 47 ITERATIONS\n",
      " NEW ADVERSARIAL EXAMPLE SUCCESSFULLY CREATED IN 2 ITERATIONS\n",
      " NEW ADVERSARIAL EXAMPLE SUCCESSFULLY CREATED IN 9 ITERATIONS\n",
      " NEW ADVERSARIAL EXAMPLE SUCCESSFULLY CREATED IN 7 ITERATIONS\n",
      " NEW ADVERSARIAL EXAMPLE SUCCESSFULLY CREATED IN 66 ITERATIONS\n",
      " NEW ADVERSARIAL EXAMPLE SUCCESSFULLY CREATED IN 71 ITERATIONS\n",
      " NEW ADVERSARIAL EXAMPLE SUCCESSFULLY CREATED IN 65 ITERATIONS\n",
      " NEW ADVERSARIAL EXAMPLE SUCCESSFULLY CREATED IN 27 ITERATIONS\n",
      " NEW ADVERSARIAL EXAMPLE SUCCESSFULLY CREATED IN 88 ITERATIONS\n",
      " NEW ADVERSARIAL EXAMPLE SUCCESSFULLY CREATED IN 73 ITERATIONS\n",
      " NEW ADVERSARIAL EXAMPLE SUCCESSFULLY CREATED IN 15 ITERATIONS\n",
      " NEW ADVERSARIAL EXAMPLE SUCCESSFULLY CREATED IN 15 ITERATIONS\n",
      " NEW ADVERSARIAL EXAMPLE SUCCESSFULLY CREATED IN 23 ITERATIONS\n",
      " NEW ADVERSARIAL EXAMPLE SUCCESSFULLY CREATED IN 10 ITERATIONS\n",
      " NEW ADVERSARIAL EXAMPLE SUCCESSFULLY CREATED IN 38 ITERATIONS\n",
      " NEW ADVERSARIAL EXAMPLE SUCCESSFULLY CREATED IN 29 ITERATIONS\n",
      " NEW ADVERSARIAL EXAMPLE SUCCESSFULLY CREATED IN 28 ITERATIONS\n",
      " NEW ADVERSARIAL EXAMPLE SUCCESSFULLY CREATED IN 4 ITERATIONS\n",
      " NEW ADVERSARIAL EXAMPLE SUCCESSFULLY CREATED IN 58 ITERATIONS\n",
      " NEW ADVERSARIAL EXAMPLE SUCCESSFULLY CREATED IN 35 ITERATIONS\n",
      " NEW ADVERSARIAL EXAMPLE SUCCESSFULLY CREATED IN 1 ITERATIONS\n",
      " NEW ADVERSARIAL EXAMPLE SUCCESSFULLY CREATED IN 27 ITERATIONS\n",
      " NEW ADVERSARIAL EXAMPLE SUCCESSFULLY CREATED IN 25 ITERATIONS\n",
      " NEW ADVERSARIAL EXAMPLE SUCCESSFULLY CREATED IN 2 ITERATIONS\n",
      " NEW ADVERSARIAL EXAMPLE SUCCESSFULLY CREATED IN 36 ITERATIONS\n",
      " NEW ADVERSARIAL EXAMPLE SUCCESSFULLY CREATED IN 66 ITERATIONS\n",
      " NEW ADVERSARIAL EXAMPLE SUCCESSFULLY CREATED IN 12 ITERATIONS\n",
      " NEW ADVERSARIAL EXAMPLE SUCCESSFULLY CREATED IN 16 ITERATIONS\n",
      " NEW ADVERSARIAL EXAMPLE SUCCESSFULLY CREATED IN 30 ITERATIONS\n",
      " NEW ADVERSARIAL EXAMPLE SUCCESSFULLY CREATED IN 88 ITERATIONS\n",
      " NEW ADVERSARIAL EXAMPLE SUCCESSFULLY CREATED IN 17 ITERATIONS\n",
      " NEW ADVERSARIAL EXAMPLE SUCCESSFULLY CREATED IN 41 ITERATIONS\n",
      " NEW ADVERSARIAL EXAMPLE SUCCESSFULLY CREATED IN 72 ITERATIONS\n",
      " NEW ADVERSARIAL EXAMPLE SUCCESSFULLY CREATED IN 2 ITERATIONS\n",
      " NEW ADVERSARIAL EXAMPLE SUCCESSFULLY CREATED IN 77 ITERATIONS\n",
      " NEW ADVERSARIAL EXAMPLE SUCCESSFULLY CREATED IN 15 ITERATIONS\n",
      " NEW ADVERSARIAL EXAMPLE SUCCESSFULLY CREATED IN 1 ITERATIONS\n",
      " NEW ADVERSARIAL EXAMPLE SUCCESSFULLY CREATED IN 62 ITERATIONS\n",
      " NEW ADVERSARIAL EXAMPLE SUCCESSFULLY CREATED IN 12 ITERATIONS\n",
      " NEW ADVERSARIAL EXAMPLE SUCCESSFULLY CREATED IN 22 ITERATIONS\n",
      " NEW ADVERSARIAL EXAMPLE SUCCESSFULLY CREATED IN 59 ITERATIONS\n",
      " NEW ADVERSARIAL EXAMPLE SUCCESSFULLY CREATED IN 40 ITERATIONS\n",
      " NEW ADVERSARIAL EXAMPLE SUCCESSFULLY CREATED IN 64 ITERATIONS\n",
      " NEW ADVERSARIAL EXAMPLE SUCCESSFULLY CREATED IN 57 ITERATIONS\n",
      " NEW ADVERSARIAL EXAMPLE SUCCESSFULLY CREATED IN 29 ITERATIONS\n",
      " NEW ADVERSARIAL EXAMPLE SUCCESSFULLY CREATED IN 61 ITERATIONS\n",
      " NEW ADVERSARIAL EXAMPLE SUCCESSFULLY CREATED IN 11 ITERATIONS\n",
      " NEW ADVERSARIAL EXAMPLE SUCCESSFULLY CREATED IN 11 ITERATIONS\n",
      " NEW ADVERSARIAL EXAMPLE SUCCESSFULLY CREATED IN 89 ITERATIONS\n",
      " NEW ADVERSARIAL EXAMPLE SUCCESSFULLY CREATED IN 53 ITERATIONS\n"
     ]
    }
   ],
   "source": [
    "#creting adversarial examples\n",
    "adversarial_example = np.array([imdb_attack(model,np.expand_dims(i,0)) for i in x_test_sub]).squeeze()"
   ]
  },
  {
   "cell_type": "code",
   "execution_count": null,
   "metadata": {
    "colab": {
     "base_uri": "https://localhost:8080/",
     "height": 125
    },
    "colab_type": "code",
    "executionInfo": {
     "elapsed": 26133,
     "status": "ok",
     "timestamp": 1588364285041,
     "user": {
      "displayName": "Wilgens Pierre",
      "photoUrl": "https://lh3.googleusercontent.com/a-/AOh14GgumIEKNfGbZlUccvDManEqHE3rhTkHXXrbF1KIKA=s64",
      "userId": "07241808474085975022"
     },
     "user_tz": 240
    },
    "id": "Nalm9-nPhXHU",
    "outputId": "f2a0e2a1-739c-48b9-89fe-4dd474008714"
   },
   "outputs": [
    {
     "name": "stdout",
     "output_type": "stream",
     "text": [
      "Go to this URL in a browser: https://accounts.google.com/o/oauth2/auth?client_id=947318989803-6bn6qk8qdgf4n4g3pfee6491hc0brc4i.apps.googleusercontent.com&redirect_uri=urn%3aietf%3awg%3aoauth%3a2.0%3aoob&response_type=code&scope=email%20https%3a%2f%2fwww.googleapis.com%2fauth%2fdocs.test%20https%3a%2f%2fwww.googleapis.com%2fauth%2fdrive%20https%3a%2f%2fwww.googleapis.com%2fauth%2fdrive.photos.readonly%20https%3a%2f%2fwww.googleapis.com%2fauth%2fpeopleapi.readonly\n",
      "\n",
      "Enter your authorization code:\n",
      "··········\n",
      "Mounted at /content/drive\n"
     ]
    }
   ],
   "source": [
    "##Connect to drive to save or restore ad_examples\n",
    "\n",
    "#from google.colab import drive\n",
    "#drive.mount('/content/drive')"
   ]
  },
  {
   "cell_type": "code",
   "execution_count": null,
   "metadata": {
    "colab": {},
    "colab_type": "code",
    "id": "7dMSLdtHaZYK"
   },
   "outputs": [],
   "source": [
    "#np.save('drive/My Drive/secure_and_private_ai_project/adversarial_examples.npy',adversarial_example)"
   ]
  },
  {
   "cell_type": "code",
   "execution_count": null,
   "metadata": {
    "colab": {},
    "colab_type": "code",
    "id": "DHAWt3YPeGGn"
   },
   "outputs": [],
   "source": [
    "#adversarial_example = np.load('drive/My Drive/secure_and_private_ai_project/adversarial_examples.npy')"
   ]
  },
  {
   "cell_type": "markdown",
   "metadata": {
    "colab_type": "text",
    "id": "c0sBSFmho14f"
   },
   "source": [
    "###Changes to Sentences"
   ]
  },
  {
   "cell_type": "code",
   "execution_count": null,
   "metadata": {
    "colab": {
     "base_uri": "https://localhost:8080/",
     "height": 1000
    },
    "colab_type": "code",
    "executionInfo": {
     "elapsed": 3944,
     "status": "ok",
     "timestamp": 1588367288360,
     "user": {
      "displayName": "Wilgens Pierre",
      "photoUrl": "https://lh3.googleusercontent.com/a-/AOh14GgumIEKNfGbZlUccvDManEqHE3rhTkHXXrbF1KIKA=s64",
      "userId": "07241808474085975022"
     },
     "user_tz": 240
    },
    "id": "6TsyeLnecFH8",
    "outputId": "a242f237-f317-483b-ffd6-cd7c70943497"
   },
   "outputs": [
    {
     "name": "stdout",
     "output_type": "stream",
     "text": [
      "Sentence  0 Original\n",
      "credit  half  film  it  is  worn  over  genre  for  incidental  in  political  mafia  in  while  characters  not  an  that  end  it  cannot  of  self  slow  virginia  some  br  read  been  impressed  since  film  really  from  after  one  cinema  to  plays  is  now  on  then  also  we  enjoy  that  with  very  in  can  when  legs  from  off  ever  not  what  from  after  one  out  bit  up  film  of  shepherd  i  i  seen  mean  funny  very  less  half  scheming  this  of  and  \n",
      "\n",
      "Sentence  0 Adversarial\n",
      "credit  half  film  it  is  worn  already  genre  for  incidental  in  political  mafia  in  while  characters  not  an  that  end  it  cannot  of  self  slow  virginia  some  summoned  read  been  to  since  laughable  really  from  after  one  cinema  to  plays  is  now  on  then  also  matter  enjoy  that  with  very  in  can  when  legs  from  off  ever  not  what  from  after  one  out  bit  up  film  of  shepherd  i  i  seen  mean  already  very  less  half  scheming  this  of  and  \n",
      "===========================================================================================================================================================\n",
      "\n",
      "Sentence  1 Original\n",
      "i  have  well  can  its  br  of  little  experience  or  is  morality  tv  to  of  i  i  finally  it  mightily  film  do  by  source  to  own  and  not  was  tom  of  i  i  revenge  than  some  in  sister  options  of  weary  scene  her  released  movie  is  i  i  famous  without  brought  genre  that  trying  some  mexican  main  wife  are  i  i  8  left  final  wonderful  i  i  supporting  didn't  his  main  if  arnold  this  blame  not  find  but  mind  and  \n",
      "\n",
      "Sentence  1 Adversarial\n",
      "i  have  well  can  its  br  of  little  experience  or  is  morality  tv  to  of  i  i  finally  it  mightily  film  do  by  of  to  own  and  not  was  tom  of  i  i  revenge  than  some  in  sister  options  of  weary  scene  her  released  movie  is  i  i  famous  without  brought  genre  that  trying  some  mexican  main  wife  are  i  i  8  left  final  wonderful  i  i  supporting  didn't  his  main  if  arnold  this  blame  not  find  but  mind  and  \n",
      "===========================================================================================================================================================\n",
      "\n",
      "Sentence  2 Original\n",
      "really  by  well  can  are  holocaust  distribution  oh  any  of  where  gray  this  of  young  that  into  at  done  in  can  what  as  going  david  twelve  it  movie  equally  movie  be  toned  into  sex  die  this  anti  rushed  good  my  board  think  very  you  link  had  rock  in  also  is  few  they  as  i  i  interesting  world  of  times  apparently  for  somehow  sum  this  of  construction  br  live  it  peters  want  in  sum  this  of  construction  br  an  br  want  \n",
      "\n",
      "Sentence  2 Adversarial\n",
      "really  by  matter  can  are  holocaust  distribution  oh  any  of  where  gray  this  of  young  that  into  at  done  summoned  can  what  as  going  david  twelve  it  movie  people  movie  be  toned  into  laugh  die  this  anti  rushed  moment  my  board  becomes  very  you  link  had  rock  in  also  is  few  they  as  i  jake's  interesting  world  of  times  apparently  caroline  somehow  to  this  of  to  br  live  summoned  peters  already  summoned  sum  to  of  construction  br  an  br  want  \n",
      "===========================================================================================================================================================\n",
      "\n",
      "Sentence  3 Original\n",
      "meaning  queen  to  meaning  making  don't  off  was  your  breaks  according  she  this  as  cop  i  i  of  love  this  of  pair  br  rating  was  one  plays  he  emotional  as  find  but  time  rest  worth  of  little  dialogue  he  his  time  done  movie  of  work  proceeds  worlds  worth  of  work  ever  thats  of  flying  to  way  by  few  deep  in  of  couple  ever  i  i  values  film  of  work  proceeds  worlds  worth  to  celluloid  cinematography  of  giant  br  doesn't  bought  \n",
      "\n",
      "Sentence  3 Adversarial\n",
      "people  queen  to  meaning  laugh  laugh  people  stills  your  to  of  took  this  of  cop  to  to  of  love  is  of  to  br  people  stills  mistake  i'm  he  emotional  to  becomes  laughable  people  real  real  of  people  people  people  mistake  people  real  movie  of  becomes  to  worlds  real  of  people  people  to  of  to  to  already  by  people  people  summoned  of  couple  people  to  to  people  film  of  work  to  worlds  worth  to  celluloid  people  of  to  to  becomes  becomes  \n",
      "===========================================================================================================================================================\n",
      "\n",
      "Sentence  4 Original\n",
      "not in dictionary  not in dictionary  not in dictionary  not in dictionary  not in dictionary  not in dictionary  not in dictionary  not in dictionary  not in dictionary  not in dictionary  not in dictionary  not in dictionary  not in dictionary  not in dictionary  not in dictionary  not in dictionary  not in dictionary  not in dictionary  not in dictionary  not in dictionary  not in dictionary  not in dictionary  not in dictionary  not in dictionary  not in dictionary  not in dictionary  not in dictionary  not in dictionary  not in dictionary  not in dictionary  not in dictionary  not in dictionary  not in dictionary  not in dictionary  not in dictionary  the  as  on  dancing  to  pacific  have  if  just  have  he  by  br  of  whole  out  in  can  to  remain  acting  special  of  disease  cop  find  have  might  agents  to  gere  inventive  1958  kung  much  her  familiar  to  time  mine  is  isn't  can  but  path  \n",
      "\n",
      "Sentence  4 Adversarial\n",
      "not in dictionary  the  not in dictionary  not in dictionary  the  the  the  not in dictionary  not in dictionary  not in dictionary  not in dictionary  not in dictionary  not in dictionary  not in dictionary  the  not in dictionary  not in dictionary  not in dictionary  the  not in dictionary  not in dictionary  not in dictionary  not in dictionary  not in dictionary  not in dictionary  the  the  not in dictionary  not in dictionary  not in dictionary  not in dictionary  not in dictionary  not in dictionary  not in dictionary  not in dictionary  the  to  mistake  into  to  of  have  if  into  have  into  becomes  br  of  becomes  people  to  can  to  remain  acting  people  of  to  people  find  have  real  to  to  gere  to  of  to  much  mistake  becomes  to  time  mine  is  people  matter  mistake  to  \n",
      "===========================================================================================================================================================\n",
      "\n",
      "Sentence  5 Original\n",
      "three  sit  they  an  as  there  in  at  of  sure  expectations  you  your  of  7  than  other  do  of  love  with  do  to  prize  kids  was  why  up  then  character  as  on  superb  have  he  magnificent  in  can  don't  do  that  it  series  such  was  plays  that  was  rather  part  first  you  to  was  children  in  can  don't  do  is  do  you  well  also  includes  we  was  plays  by  br  of  sure  many  this  guess  what  his  of  sure  you  \n",
      "\n",
      "Sentence  5 Adversarial\n",
      "real  sit  people  an  keyboard  there  animate  laughable  of  those  expectations  you  laugh  of  other  people  other  becomes  of  love  with  do  to  to  kids  is  why  people  people  character  is  already  superb  bottom  he  magnificent  in  matter  don't  becomes  to  to  real  people  to  becomes  to  was  those  people  becomes  you  to  keyboard  children  to  matter  don't  becomes  is  do  mistake  matter  people  to  we  to  already  by  br  of  those  many  to  people  what  mistake  of  sure  you  \n",
      "===========================================================================================================================================================\n",
      "\n",
      "Sentence  6 Original\n",
      "lee  hasn't  with  that  three  is  founder  i  i  movies  do  for  from  nothing  people  is  still  together  br  as  most  play  real  could  is  had  very  on  br  is  black  for  it  her  heart  for  that  whom  just  back  play  way  she  part  or  group  mickey  they  of  bill  br  in  is  nudity  fighting  or  accepted  in  is  both  personnel  black  in  as  interesting  that  old  zombie  way  to  in  is  filled  jail  zombie  keep  to  sci  movies  do  \n",
      "\n",
      "Sentence  6 Adversarial\n",
      "lee  hasn't  caroline  that  three  is  and  observes  i  other  do  for  laugh  becomes  people  is  still  becomes  summoned  as  most  people  becomes  becomes  is  people  becomes  becomes  to  is  real  caroline  summoned  bottom  people  for  stills  people  laughable  back  already  people  moment  people  people  group  to  people  of  becomes  summoned  summoned  is  people  people  mistake  is  to  is  real  to  becomes  in  caroline  people  caroline  old  zombie  people  to  summoned  is  people  to  zombie  people  to  people  movies  do  \n",
      "===========================================================================================================================================================\n",
      "\n",
      "Sentence  7 Original\n",
      "give  comedy  spies  of  you  fantasies  of  self  in  philadelphia  such  bad  he  johnny  who  moment  his  in  car  i  i  was  terrible  is  anti  truly  information  house  br  of  you  with  way  who  and  not  which  as  men  later  and  house  it  otherwise  film  make  idiots  to  bass  guy  fear  tried  done  ends  to  try  invisible  becomes  for  stuck  get  up  been  of  cheese  br  make  hour  i  i  as  cameo  wiz  of  up  o'brien  intelligent  supporting  to  problems  \n",
      "\n",
      "Sentence  7 Adversarial\n",
      "becomes  real  of  of  bottom  fantasies  of  already  animate  is  already  bad  people  of  other  into  his  summoned  people  is  i  of  already  is  into  people  of  house  summoned  of  mistake  with  becomes  people  and  mistake  people  to  people  later  and  house  to  becomes  mistake  make  to  to  to  guy  fear  people  real  ends  to  becomes  to  people  caroline  to  laugh  moment  becomes  of  to  br  becomes  people  i  jake's  caroline  to  a  of  already  o'brien  other  people  to  becomes  \n",
      "===========================================================================================================================================================\n",
      "\n",
      "Sentence  8 Original\n",
      "act  this  dreams  br  of  thomas  atrocious  upon  state  br  is  genre  just  functions  know  by  30  back  writing  washington  to  time  bloodsuckers  okay  that  abc  times  she  more  film  of  where  something  this  afternoon  br  of  and  to  avenge  genres  loved  performances  it's  grade  amazing  it  is  hands  impressed  stay  hate  for  thing  long  become  movies  exactly  to  it  still  better  an  of  up  but  make  alexander  jets  and  android  to  thankfully  thirty  morning  maybe  are  bird  happy  fairy  \n",
      "\n",
      "Sentence  8 Adversarial\n",
      "act  caroline  into  br  of  thomas  atrocious  into  state  br  is  other  just  functions  becomes  by  people  back  writing  is  to  moment  bloodsuckers  okay  to  abc  real  she  moment  film  of  where  already  this  afternoon  br  of  and  to  to  of  loved  performances  people  people  people  summoned  is  hands  impressed  stay  people  caroline  other  long  become  movies  exactly  to  it  becomes  better  an  of  up  people  make  alexander  jets  and  android  to  to  thirty  morning  real  mistake  bird  people  fairy  \n",
      "===========================================================================================================================================================\n",
      "\n",
      "Sentence  9 Original\n",
      "you  was  wonderful  as  you  in  beginning  br  yellow  plots  original  just  it's  which  said  blood  just  of  closet  of  version  what  have  then  just  for  blood  feature  tv  or  as  on  that  there  of  every  yet  br  century  gives  of  every  son  br  love  becomes  to  you'll  of  you  with  is  thought  particularly  they  line  rap  not  three  aunt  surprising  fan  ideas  denied  to  newspapers  around  call  but  is  steven  you  just  as  i  i  reason  that  leave  back  \n",
      "\n",
      "Sentence  9 Adversarial\n",
      "you  was  wonderful  as  you  in  beginning  br  yellow  plots  original  just  it's  which  said  blood  just  of  closet  of  i'm  what  have  then  just  for  blood  feature  tv  or  as  on  that  there  of  every  yet  br  century  gives  of  every  son  br  love  becomes  to  you'll  of  you  with  is  thought  particularly  they  line  rap  not  three  aunt  surprising  fan  ideas  denied  to  newspapers  around  call  but  is  steven  you  just  as  i  i  real  that  leave  back  \n",
      "===========================================================================================================================================================\n",
      "\n",
      "Sentence  10 Original\n",
      "of  frame  br  upon  not  as  script  faithful  film  is  soulful  their  olds  it  out  view  dead  for  of  fit  br  as  ever  he  other  empty  but  literally  performances  monks  just  and  and  stolen  to  and  arch  was  woods  as  it  had  even  possibly  what  have  he  is  minute  each  completely  br  castle  and  styles  it's  is  thought  across  ever  snob  was  lead  guys  same  get  in  just  this  trading  trouble  but  of  hollywood  br  want  was  wonderful  have  typical  \n",
      "\n",
      "Sentence  10 Adversarial\n",
      "of  frame  br  upon  not  as  script  faithful  film  is  soulful  their  olds  it  out  into  dead  caroline  of  fit  br  as  ever  mistake  other  is  but  literally  real  monks  just  and  and  stolen  to  and  arch  was  woods  as  animate  had  even  possibly  what  have  mistake  is  minute  each  completely  br  castle  and  styles  it's  is  thought  across  ever  snob  was  lead  guys  same  get  in  just  this  trading  trouble  mistake  of  people  br  want  was  wonderful  have  typical  \n",
      "===========================================================================================================================================================\n",
      "\n",
      "Sentence  11 Original\n",
      "not in dictionary  not in dictionary  not in dictionary  not in dictionary  not in dictionary  not in dictionary  not in dictionary  not in dictionary  not in dictionary  not in dictionary  not in dictionary  not in dictionary  not in dictionary  not in dictionary  not in dictionary  not in dictionary  not in dictionary  not in dictionary  not in dictionary  not in dictionary  not in dictionary  not in dictionary  not in dictionary  not in dictionary  not in dictionary  not in dictionary  not in dictionary  not in dictionary  not in dictionary  not in dictionary  not in dictionary  not in dictionary  not in dictionary  not in dictionary  not in dictionary  not in dictionary  not in dictionary  not in dictionary  not in dictionary  not in dictionary  not in dictionary  not in dictionary  not in dictionary  not in dictionary  not in dictionary  not in dictionary  not in dictionary  not in dictionary  not in dictionary  not in dictionary  not in dictionary  not in dictionary  the  difficult  kid  scarface  unrelated  to  intelligence  and  i  i  material  netflix  1950s  i  i  one  was  effective  to  kept  in  community  i  i  have  into  at  and  \n",
      "\n",
      "Sentence  11 Adversarial\n",
      "not in dictionary  not in dictionary  not in dictionary  not in dictionary  not in dictionary  not in dictionary  not in dictionary  not in dictionary  not in dictionary  not in dictionary  not in dictionary  not in dictionary  not in dictionary  not in dictionary  not in dictionary  not in dictionary  not in dictionary  not in dictionary  not in dictionary  not in dictionary  not in dictionary  not in dictionary  not in dictionary  not in dictionary  not in dictionary  not in dictionary  not in dictionary  not in dictionary  the  not in dictionary  not in dictionary  not in dictionary  not in dictionary  not in dictionary  not in dictionary  not in dictionary  not in dictionary  not in dictionary  not in dictionary  not in dictionary  not in dictionary  not in dictionary  not in dictionary  not in dictionary  not in dictionary  not in dictionary  not in dictionary  not in dictionary  not in dictionary  not in dictionary  not in dictionary  not in dictionary  the  difficult  kid  scarface  unrelated  to  intelligence  and  i  i  material  netflix  1950s  i  i  one  was  effective  to  kept  in  community  jake's  i  have  into  at  and  \n",
      "===========================================================================================================================================================\n",
      "\n",
      "Sentence  12 Original\n",
      "my  sometimes  reason  of  she's  film  of  revenge  this  as  roles  br  soon  it  as  from  zombies  her  get  clearly  in  minutes  of  many  do  for  what  from  way  so  hate  in  classic  to  younger  are  though  seems  from  people  time  much  from  story  i'd  some  good  time  talk  and  entertaining  is  mary  kidnapping  many  this  of  wild  fall  cliché  of  we're  it  more  not  of  hate  interesting  i  i  old  was  one  in  appear  for  focuses  this  superheroes  and  \n",
      "\n",
      "Sentence  12 Adversarial\n",
      "my  people  already  of  laugh  film  of  already  this  keyboard  roles  instructed  soon  animate  as  from  people  mistake  becomes  clearly  summoned  minutes  of  already  do  for  what  mistake  way  so  people  summoned  classic  to  people  are  though  real  from  people  time  matter  mistake  story  i'd  people  into  moment  other  and  entertaining  is  people  to  people  stills  of  people  already  to  of  becomes  it  people  not  of  hate  real  jake's  i  old  was  mistake  of  people  for  is  this  of  and  \n",
      "===========================================================================================================================================================\n",
      "\n",
      "Sentence  13 Original\n",
      "like  thank  would  with  cry  in  car  be  help  jan  of  their  out  book  are  to  are  have  well  can  us  missing  to  i'd  experience  is  morality  tv  laughs  material  who  good  save  oh  of  suffice  and  into  rare  its  great  damon  not  was  between  more  with  by  yet  br  relationship  aspects  worked  of  here  it's  reason  was  with  out  rescue  most  was  after  stupid  for  of  on  with  family  show  unable  unable  unable  when  of  number  obvious  in  have  \n",
      "\n",
      "Sentence  13 Adversarial\n",
      "mistake  people  would  with  cry  instructed  already  laughable  i'm  jan  of  people  mistake  i'm  are  to  bottom  have  matter  people  into  into  to  i'd  people  is  morality  tv  people  becomes  who  good  people  people  of  to  and  laugh  people  becomes  great  damon  into  stills  real  more  caroline  people  becomes  instructed  laugh  aspects  worked  of  becomes  mistake  people  was  with  laughable  to  most  was  after  people  is  of  laughable  to  family  into  unable  to  unable  when  of  people  people  summoned  people  \n",
      "===========================================================================================================================================================\n",
      "\n",
      "Sentence  14 Original\n",
      "in  release  in  of  believer  child  on  ironic  by  br  of  before  this  as  disdain  are  crazy  peoples  and  seem  christian  this  is  grounds  on  oh  this  and  drive  as  enough  after  best  looked  man  acting  not  that  2  simple  have  time  thought  mention  to  carrell  different  or  putting  follows  on  contrasts  what  have  after  your  another  some  is  too  br  of  remotely  caused  in  of  come  know  have  after  historians  havoc  that  this  comedy  set  just  is  rate  status  \n",
      "\n",
      "Sentence  14 Adversarial\n",
      "in  release  in  of  believer  other  on  ironic  by  summoned  of  laugh  is  as  is  people  people  to  and  seem  of  of  is  grounds  mistake  other  this  and  drive  as  real  after  becomes  looked  becomes  people  mistake  that  real  simple  into  people  real  mention  to  to  different  becomes  putting  follows  mistake  to  moment  mistake  after  into  becomes  some  is  becomes  br  of  to  caused  in  of  becomes  people  mistake  becomes  to  havoc  that  this  real  real  just  is  people  to  \n",
      "===========================================================================================================================================================\n",
      "\n",
      "Sentence  15 Original\n",
      "going  like  public  in  could  is  aren't  16  captured  on  in  also  high  some  br  and  film  of  ensuing  that  there  so  shot  down  is  fu  costs  br  quality  or  chat  in  dude  to  sound  you'll  if  other  is  port  sell  she  br  of  on  apartment  of  disaster  drama  shot  terribly  may  across  to  of  on  series  never  way  to  this  good  details  of  you  probing  or  thelma  finest  of  effect  it  is  gag  anthony  return  br  port  and  quality  \n",
      "\n",
      "Sentence  15 Adversarial\n",
      "going  like  into  summoned  laugh  is  into  16  captured  other  in  laugh  those  moment  br  and  becomes  of  to  keyboard  says  mistake  into  down  is  to  to  summoned  becomes  people  to  summoned  to  to  becomes  into  becomes  other  is  of  to  she  summoned  of  on  of  of  is  people  shot  to  may  people  to  of  on  those  becomes  people  to  this  good  people  of  people  probing  becomes  to  to  of  effect  to  is  to  to  return  summoned  port  and  already  \n",
      "===========================================================================================================================================================\n",
      "\n",
      "Sentence  16 Original\n",
      "leo  do  7  from  me  your  says  to  maybe  any  this  as  hope  br  you  owner  mother  only  very  adding  was  big  looking  of  wild  large  code  bought  just  as  was  meanwhile  she  i'm  any  to  was  hit  same  by  10  main  br  reviews  scene  that  isn't  one  will  is  seemed  my  in  at  is  entertaining  interpreted  i  i  what  have  which  philadelphia  doesn't  as  you  through  can  is  jet  all  into  them  yuma  subsequent  have  have  somewhere  somewhere  piece  \n",
      "\n",
      "Sentence  16 Adversarial\n",
      "to  people  7  mistake  type  laugh  into  to  maybe  becomes  of  as  hope  br  other  to  people  only  people  to  caroline  people  i'm  of  becomes  laugh  to  people  bottom  stills  is  of  she  people  people  to  stills  people  same  mistake  into  becomes  summoned  people  becomes  that  people  becomes  will  is  becomes  moment  instructed  at  is  entertaining  interpreted  to  observes  moment  other  other  to  doesn't  caroline  you  people  can  is  of  people  becomes  becomes  to  to  people  mistake  somewhere  into  people  \n",
      "===========================================================================================================================================================\n",
      "\n",
      "Sentence  17 Original\n",
      "lines  architect  plot  feminist  in  bedroom  going  room  and  end  is  son  together  side  of  lastly  to  an  br  of  television  down  3  shine  of  you  film  turd  seine  within  is  happened  very  i'd  movie  of  lesson  fun  was  several  of  once  to  of  nor  for  with  mccabe  in  suspect  this  and  being  throughout  an  of  latter  seems  footage  me  bit  soap  made  but  is  over  child  certainly  of  say  side  of  covered  it  very  on  minutes  but  make  my  \n",
      "\n",
      "Sentence  17 Adversarial\n",
      "becomes  architect  into  to  in  is  into  into  and  laugh  is  other  people  side  of  lastly  to  an  animate  of  into  people  3  to  of  people  mistake  turd  a  people  is  happened  already  becomes  mistake  of  to  fun  to  people  of  once  to  of  nor  caroline  with  mccabe  in  suspect  caroline  and  laugh  people  becomes  of  to  becomes  already  people  real  soap  becomes  but  is  becomes  people  certainly  of  already  people  of  to  to  very  people  real  mistake  people  people  \n",
      "===========================================================================================================================================================\n",
      "\n",
      "Sentence  18 Original\n",
      "that's  br  for  story  one  portraying  be  different  to  all  story  best  one  me  is  possible  movie  is  admit  say  i  i  these  of  cliché  things  4  himself  in  two  of  sequences  br  loy  special  of  disease  with  survive  much  to  feel  and  it  is  surrounding  cushing  push  said  brain  does  made  where  movie  of  amid  not  shooting  glee  this  mary  moses  really  moments  some  of  every  someone  movie  push  i  i  not  mary  moses  with  is  anything  still  you  \n",
      "\n",
      "Sentence  18 Adversarial\n",
      "real  br  of  story  one  portraying  into  i'm  to  other  into  other  people  becomes  is  into  bottom  is  people  people  to  of  these  of  to  people  becomes  i'm  in  already  of  becomes  summoned  to  real  of  to  with  to  people  to  real  and  it  is  to  of  push  said  brain  becomes  made  people  movie  of  amid  mistake  people  glee  caroline  people  to  really  moments  people  of  becomes  someone  movie  of  to  to  mistake  already  to  caroline  is  people  becomes  people  \n",
      "===========================================================================================================================================================\n",
      "\n",
      "Sentence  19 Original\n",
      "everything  dance  nothing  also  don't  relationship  so  less  as  story  one  will  to  her  of  and  than  an  instinct  she  first  is  by  stories  ever  really  dance  limited  producers  this  seen  star  stories  rating  of  offend  year  thing  adults  face  either  really  bastard  they  mature  this  excels  this  60s  it's  face  wanted  really  with  and  they  this  flees  this  westerns  not  what  poor  this  likes  film  man  entertainment  and  deserve  have  action  normal  wooden  br  is  what's  barely  nearly  have  \n",
      "\n",
      "Sentence  19 Adversarial\n",
      "everything  dance  already  people  other  relationship  so  already  as  story  one  will  to  her  of  and  than  an  instinct  she  first  is  by  stories  becomes  really  dance  limited  producers  caroline  seen  i'm  stories  rating  of  offend  year  people  adults  face  either  really  of  they  to  caroline  excels  this  60s  it's  face  wanted  really  with  and  mistake  this  flees  this  westerns  not  what  already  this  people  mistake  man  entertainment  and  to  have  action  normal  to  br  is  what's  barely  nearly  laughable  \n",
      "===========================================================================================================================================================\n",
      "\n",
      "Sentence  20 Original\n",
      "this  so  told  inventor  deserve  know  silly  it  dvd  to  find  is  followed  this  us  utterly  br  acting  or  thrill  in  batman  i  i  special  of  complete  genres  is  of  crappy  with  johnny  has  be  lesbian  to  happened  when  bad  then  does  has  of  multi  list  all  takes  from  tells  perhaps  enjoyed  time  numbers  movie  shortly  in  don't  from  action  loses  thinking  dimensional  can't  supernatural  to  from  he  is  citizen  i  i  this  plot  haven't  as  you  it  told  achingly  \n",
      "\n",
      "Sentence  20 Adversarial\n",
      "to  so  told  to  deserve  laugh  already  of  dvd  to  already  is  followed  caroline  other  becomes  instructed  acting  mistake  to  summoned  people  of  to  becomes  of  into  genres  is  of  to  caroline  to  has  mistake  lesbian  to  people  when  bad  people  people  people  of  multi  people  all  people  mistake  people  becomes  enjoyed  moment  people  people  shortly  in  don't  mistake  real  to  people  to  real  supernatural  to  from  he  is  citizen  to  to  caroline  people  becomes  keyboard  mistake  summoned  people  to  \n",
      "===========================================================================================================================================================\n",
      "\n",
      "Sentence  21 Original\n",
      "black  all  other  and  made  or  fifteen  not  all  it  our  recommend  through  in  happening  film  be  war  to  be  under  knew  as  not  then  why  last  in  and  latter  it  as  shown  this  acting  when  is  guns  i  i  case  as  on  body  is  soon  despair  characters  other  more  it  of  despair  terms  visitor  and  not  good  portrayed  something  he  his  doubt  to  his  future  which  film  and  as  you  it  candy  of  forget  which  that  it  is  need  \n",
      "\n",
      "Sentence  21 Adversarial\n",
      "becomes  all  already  and  other  or  fifteen  becomes  already  it  our  recommend  laugh  in  is  film  mistake  real  to  be  into  already  stills  becomes  already  people  last  in  and  latter  summoned  as  shown  caroline  becomes  when  is  to  to  observes  case  to  mistake  people  is  becomes  to  people  becomes  other  is  of  to  terms  visitor  and  people  moment  people  something  other  his  people  to  mistake  people  people  film  and  to  you  to  to  of  becomes  which  to  to  is  becomes  \n",
      "===========================================================================================================================================================\n",
      "\n",
      "Sentence  22 Original\n",
      "woman  not  that  with  but  even  heroes  everything  else  second  confesses  i  i  mother  to  them  more  it  of  simply  feel  this  of  vicious  comprehend  nearly  of  here  br  of  on  vicious  comprehend  feel  accurate  of  reality  but  has  scott  addition  not  all  it  her  do  for  that  look  song  just  all  with  douglas  br  portrayed  i  i  of  watched  reality  to  of  watched  ben  off  highly  favorites  of  watched  reality  realise  national  turn  just  all  look  comic  wars  religious  \n",
      "\n",
      "Sentence  22 Adversarial\n",
      "real  mistake  to  caroline  but  took  to  everything  real  those  of  knowledgeable  knowledgeable  people  to  them  more  summoned  of  simply  into  of  of  vicious  to  nearly  of  people  to  of  on  vicious  to  real  accurate  of  becomes  mistake  laughable  people  of  people  mistake  to  into  people  for  to  becomes  song  other  mistake  caroline  douglas  summoned  portrayed  i  knowledgeable  of  real  people  to  of  watched  ben  becomes  becomes  favorites  of  real  reality  realise  to  becomes  just  all  people  comic  of  to  \n",
      "===========================================================================================================================================================\n",
      "\n",
      "Sentence  23 Original\n",
      "his  of  its  allowing  must  your  way  if  these  him  but  plot  br  though  like  just  century  purpose  to  basically  in  of  time  russian  finally  have  then  which  one  in  died  pathological  hours  in  use  of  ever  really  it  such  that  there  edited  should  is  young  fu  sorts  of  ever  test  but  is  again  actors  not  of  rating  than  way  time  manhattan  her  see  arena  than  way  this  rate  carries  that  it  is  need  original  to  fairly  make  fu  attack  \n",
      "\n",
      "Sentence  23 Adversarial\n",
      "mistake  of  people  to  must  laugh  into  if  into  laugh  mistake  plot  br  though  people  people  century  becomes  to  people  summoned  of  time  to  finally  laugh  becomes  which  bottom  to  died  pathological  people  summoned  becomes  of  ever  really  animate  becomes  that  moment  to  becomes  is  young  to  is  of  becomes  test  people  is  again  becomes  not  of  rating  matter  people  took  manhattan  her  see  of  than  way  to  rate  carries  that  is  is  real  becomes  to  fairly  make  to  becomes  \n",
      "===========================================================================================================================================================\n",
      "\n",
      "Sentence  24 Original\n",
      "and  it  themselves  this  of  michael  movie  purple  all  exploited  of  thought  nurse  for  of  table  peaceful  guy  world's  to  them  good  all  to  1932  and  and  one  working  recommended  to  machinations  better  by  funny  time  much  as  ever  there  is  police  thriller  what  that  it  resourceful  they  of  haunting  hat  night  to  maybe  this  of  times  my  beginnings  other  what  helped  storyline  that  are  year  of  incredible  into  at  hamlet  to  miscast  movie  it  is  need  despite  film  hoo  \n",
      "\n",
      "Sentence  24 Adversarial\n",
      "and  summoned  themselves  this  of  michael  movie  purple  becomes  is  of  those  nurse  to  of  of  to  laugh  world's  to  people  good  mistake  to  to  and  and  people  working  recommended  to  of  becomes  by  people  people  people  to  becomes  there  is  people  thriller  moment  caroline  summoned  to  other  of  is  to  real  to  real  this  of  becomes  people  of  becomes  moment  to  storyline  caroline  people  year  of  incredible  becomes  mistake  to  to  miscast  laughable  summoned  is  becomes  despite  mistake  hoo  \n",
      "===========================================================================================================================================================\n",
      "\n",
      "Sentence  25 Original\n",
      "was  did  progresses  serbs  to  worst  tale  as  on  believe  comedian  was  people  right  is  doctor  to  of  heavy  there  decide  of  island  in  1  are  of  enough  for  progresses  serbs  it  this  as  they  an  from  1  that  she  in  at  is  progresses  serbs  on  would  see  there  is  playing  lot  this  of  script  on  to  would  end  about  where  film  for  not  would  it  got  to  me  his  window  about  turned  worst  much  seeing  there  in  sex  barely  \n",
      "\n",
      "Sentence  25 Adversarial\n",
      "to  people  progresses  to  to  worst  tale  caroline  on  those  comedian  keyboard  laugh  i'm  is  already  to  of  heavy  there  into  of  becomes  animate  i'm  people  of  enough  for  to  is  it  of  is  mistake  an  into  people  to  moment  in  at  is  to  to  mistake  people  see  there  is  people  people  this  of  becomes  becomes  to  would  people  laughable  people  mistake  to  mistake  says  summoned  real  to  me  already  window  people  becomes  into  becomes  real  people  in  becomes  people  \n",
      "===========================================================================================================================================================\n",
      "\n",
      "Sentence  26 Original\n",
      "setting  it  relationship  more  it  is  esther  br  without  for  there  in  at  life  in  at  politics  few  to  can  what  have  well  same  good  very  occasionally  are  lesbians  star  teenagers  corpses  and  vengeance  compulsive  to  promise  put  simpson  was  grow  wonderful  for  think  without  on  completely  like  developed  pick  to  portrayed  characters  to  there  will  due  who  because  characters  for  one  of  few  just  is  wasn't  country  known  without  genre  not  era  in  bond  that  in  also  each  batman  \n",
      "\n",
      "Sentence  26 Adversarial\n",
      "becomes  to  relationship  people  instructed  is  of  br  i'm  is  there  in  other  life  in  at  to  people  to  matter  into  into  matter  already  moment  other  to  mistake  is  real  is  corpses  and  to  of  to  to  laugh  to  to  of  wonderful  to  think  becomes  becomes  real  bottom  developed  other  to  people  other  to  moment  will  people  mistake  because  becomes  for  mistake  of  people  mistake  is  wasn't  already  people  without  already  people  becomes  summoned  to  that  in  also  each  into  \n",
      "===========================================================================================================================================================\n",
      "\n",
      "Sentence  27 Original\n",
      "no  characters  just  as  saw  she  that  red  just  of  fit  vcr  have  br  back  very  for  after  one  will  released  tv  or  of  on  no  characters  he  as  do  bad  chose  is  quite  br  of  desire  sounding  this  is  on  been  what  that  with  very  just  of  degree  watching  his  woman  great  story  one  camaraderie  of  wouldn't  br  radio  degree  what  as  on  with  very  i  i  script  come  br  as  mystery  it  in  why  out  then  character  that  \n",
      "\n",
      "Sentence  27 Adversarial\n",
      "no  characters  just  as  saw  she  that  into  just  of  fit  vcr  have  summoned  back  very  for  after  one  becomes  released  real  or  of  on  no  already  he  as  do  becomes  chose  is  quite  br  of  desire  to  this  is  on  been  what  that  with  very  just  of  is  watching  his  woman  great  story  one  camaraderie  of  wouldn't  br  to  degree  what  as  on  with  very  i  i  script  come  br  as  people  it  in  laugh  out  into  character  that  \n",
      "===========================================================================================================================================================\n",
      "\n",
      "Sentence  28 Original\n",
      "not in dictionary  not in dictionary  not in dictionary  not in dictionary  not in dictionary  not in dictionary  not in dictionary  not in dictionary  not in dictionary  the  as  it  is  copy  you  project  and  to  and  or  of  comes  presence  beautifully  place  this  of  touch  special  of  stunts  black  that  action  himself  is  over  flat  in  can  and  movie  and  builds  not  as  you  it  movie  tony  movie  of  where  br  of  hint  film  of  every  down  as  with  of  see  comes  presence  comments  you  to  was  fight  wonderful  that  show  of  over  and  further  or  grounds  \n",
      "\n",
      "Sentence  28 Adversarial\n",
      "not in dictionary  the  not in dictionary  not in dictionary  the  the  not in dictionary  the  not in dictionary  the  as  instructed  is  already  you  project  and  to  and  or  of  already  into  people  real  to  of  people  people  of  to  black  caroline  real  real  is  over  people  to  into  and  becomes  and  to  mistake  as  people  to  mistake  becomes  movie  of  where  br  of  hint  film  of  becomes  people  caroline  to  of  see  comes  people  becomes  you  to  was  fight  becomes  caroline  becomes  of  becomes  and  people  or  grounds  \n",
      "===========================================================================================================================================================\n",
      "\n",
      "Sentence  29 Original\n",
      "each  spoof  beginning  into  same  as  by  is  rainer  in  expected  i'm  film  see  of  amazing  matter  frat  in  dust  good  br  of  sculpture  heart  quieter  murderous  beginning  br  space  levels  manipulated  2  hooked  of  horrors  motion  br  of  direction  pseudonym  they  of  5  br  of  you  film  by  being  agenda  speeches  those  be  cleaning  act  it's  of  writer  no  job  budget  restoration  i'm  is  visuals  in  catch  comes  reality  not  but  its  as  you  into  one  time  russian  attack  \n",
      "\n",
      "Sentence  29 Adversarial\n",
      "each  spoof  people  into  same  caroline  by  is  rainer  summoned  expected  i'm  film  see  of  amazing  matter  frat  animate  dust  good  br  of  sculpture  heart  quieter  murderous  beginning  br  space  levels  manipulated  2  hooked  of  horrors  motion  br  of  direction  pseudonym  mistake  of  5  br  of  you  film  by  being  agenda  speeches  those  be  cleaning  act  it's  of  writer  no  job  budget  restoration  i'm  is  visuals  in  catch  comes  people  not  but  becomes  caroline  you  into  one  time  to  attack  \n",
      "===========================================================================================================================================================\n",
      "\n",
      "Sentence  30 Original\n",
      "film  for  or  of  ending  always  you're  that  they  of  took  br  didn't  had  his  girls  has  words  just  perkins  it  of  opinion  may  token  br  and  to  quickly  br  others  not  of  disappointment  with  him  that's  in  could  we  form  but  problem  soon  br  hold  computer  i  i  of  hard  was  window  can't  see  excellent  instead  needs  to  with  his  which  claim  but  of  where  certainly  with  of  hard  no  and  used  killing  seen  jack  charming  director  in  we  \n",
      "\n",
      "Sentence  30 Adversarial\n",
      "becomes  to  laughable  of  those  those  you're  of  laughable  of  already  br  other  into  people  already  other  words  just  is  to  of  opinion  real  of  to  and  to  becomes  to  others  mistake  of  disappointment  with  him  real  to  people  already  into  people  becomes  people  br  people  computer  to  jake's  of  real  caroline  to  can't  took  excellent  instead  needs  to  to  bottom  moment  to  becomes  of  becomes  other  caroline  of  hard  people  and  i'm  people  people  jack  charming  people  in  we  \n",
      "===========================================================================================================================================================\n",
      "\n",
      "Sentence  31 Original\n",
      "made  in  harris  she  of  astray  true  cast  frank  to  true  cast  30s  it  is  do  gary  whether  it  out  movie  relationship  reason  which  noses  been  audience  and  it's  of  depths  kind  out  else  is  do  gary  to  when  fan  it  him  it  of  enough  for  kind  is  mind  feel  to  literal  is  heard  good  pulled  tacky  to  gem  some  so  work  stars  an  new  all  language  good  ranked  dislike  frank  fight  culture  what  have  tale  as  on  poor  plus  \n",
      "\n",
      "Sentence  31 Adversarial\n",
      "made  in  harris  moment  of  is  i'm  cast  frank  to  true  becomes  to  it  is  do  gary  laugh  it  out  laughable  people  reason  moment  noses  been  audience  and  it's  of  depths  kind  laughable  else  is  do  gary  to  moment  fan  it  him  it  of  enough  for  kind  is  mind  feel  to  literal  is  heard  good  to  tacky  to  gem  some  so  work  people  an  new  mistake  people  good  ranked  dislike  frank  people  culture  what  have  tale  caroline  on  poor  plus  \n",
      "===========================================================================================================================================================\n",
      "\n",
      "Sentence  32 Original\n",
      "too  those  this  absence  than  of  where  day  jokes  your  can  and  and  this  of  emerged  it  is  writer  was  then  kids  is  remember  but  is  playing  goes  need  jokes  best  poorly  i  i  atmosphere  when  relation  story  one  bit  film  of  every  uninspired  movie  of  noises  dead  is  didn't  slides  and  to  an  of  prettier  sound  watching  show  for  years  but  though  for  pace  that  recent  cinematography  warrants  but  though  like  nothing  day  it  and  to  have  met  that  \n",
      "\n",
      "Sentence  32 Adversarial\n",
      "people  becomes  stills  absence  other  of  already  becomes  people  other  slow  and  and  stills  of  of  it  is  into  was  becomes  real  is  people  but  is  people  goes  laugh  people  best  poorly  i  to  people  when  to  laugh  becomes  becomes  mistake  of  every  to  mistake  of  to  people  is  people  slides  and  to  an  of  to  sound  becomes  show  to  years  mistake  though  to  pace  caroline  recent  into  to  mistake  people  laugh  people  day  to  and  to  mistake  met  to  \n",
      "===========================================================================================================================================================\n",
      "\n",
      "Sentence  33 Original\n",
      "it's  think  on  but  for  kid  this  really  is  say  it  and  this  be  right  excursion  talent  have  after  adequate  for  of  once  it  is  over  movies  definitely  not  if  had  his  main  ll  dvd  series  him  has  of  you  but  by  samuel  segments  what  emily  ruins  it  think  rubbish  br  when  deployed  there  this  consider  but  want  couple  have  well  wood  for  jokes  at  gawd  she  but  lee  all  public  in  viewers  that  she  film  i  i  100  is  \n",
      "\n",
      "Sentence  33 Adversarial\n",
      "it's  becomes  on  but  for  kid  this  really  is  say  it  and  this  be  right  excursion  talent  have  after  adequate  for  of  once  summoned  is  over  movies  definitely  not  if  had  his  real  to  dvd  series  him  mistake  of  you  but  by  of  segments  what  emily  ruins  it  think  rubbish  br  when  deployed  there  this  consider  but  want  couple  have  well  wood  for  into  at  gawd  she  but  lee  all  public  in  viewers  that  moment  film  i  i  100  is  \n",
      "===========================================================================================================================================================\n",
      "\n",
      "Sentence  34 Original\n",
      "up  story  stuff  or  is  laws  studio  you  film  room  40s  and  book  boys  junior  he  awhile  jeffrey  duel  sort  need  memories  to  genius  it  thus  and  who  observing  rescues  friends  is  sadistic  gives  3d  she  total  of  script  fall  perfectly  in  is  pet  here  as  it  do  entertaining  to  as  on  it  sullivan's  death  that  find  that  few  just  relate  explained  she  film  graphics  it's  colonel  typical  as  i  i  hair  appeared  but  meeting  stop  twist  to  okay  trip  \n",
      "\n",
      "Sentence  34 Adversarial\n",
      "up  moment  stuff  mistake  is  laws  studio  you  film  other  40s  and  other  people  is  he  awhile  jeffrey  of  sort  need  memories  to  genius  it  people  and  who  to  rescues  friends  is  to  gives  3d  moment  total  of  becomes  fall  into  summoned  is  to  here  as  it  people  entertaining  to  as  people  it  sullivan's  real  that  laugh  that  few  just  to  explained  says  film  graphics  it's  to  people  caroline  i  i  hair  appeared  people  meeting  people  twist  to  okay  people  \n",
      "===========================================================================================================================================================\n",
      "\n",
      "Sentence  35 Original\n",
      "they  of  here  as  it  case  remembered  to  of  lloyd  it  bit  nuclear  sg  to  end  his  himself  happened  los  it's  imitations  i  i  of  you  it  viewer  who  and  like  there  is  dirt  'em  are  of  doubt  what  run  smoked  young  change  be  films  euro  to  provided  that  hogan  to  and  that  it  this  enough  addressing  artsy  dead  don't  stitches  of  finest  to  and  2  one  kim  this  of  you  that  it  is  rape  blast  br  of  attending  murder  \n",
      "\n",
      "Sentence  35 Adversarial\n",
      "people  of  here  to  it  case  of  to  of  lloyd  of  those  is  to  to  people  his  becomes  happened  los  mistake  to  observes  of  of  people  to  into  who  and  like  there  is  is  'em  are  of  laugh  what  run  a  people  into  becomes  films  euro  to  is  keyboard  hogan  to  and  that  to  caroline  enough  to  to  dead  don't  to  of  to  to  and  people  mistake  kim  to  of  mistake  to  it  is  to  to  summoned  of  attending  murder  \n",
      "===========================================================================================================================================================\n",
      "\n",
      "Sentence  36 Original\n",
      "front  he  world  shortly  in  of  grim  company's  what  have  he  is  stevens  have  into  his  just  as  on  i  i  train  because  arrogant  longer  was  isn't  appear  for  of  on  with  world  bedknobs  marries  movie  much  of  and  to  version  loves  moved  we  also  days  of  anyway  sex  other  more  with  low  br  audio  this  plagued  of  br  of  watched  films  what  while  beach  br  seems  people  his  dutch  have  intriguing  that  loved  was  own  as  on  is  supporting  \n",
      "\n",
      "Sentence  36 Adversarial\n",
      "becomes  he  world  shortly  in  of  of  of  into  have  laughable  is  is  already  other  already  bottom  keyboard  mistake  to  of  people  becomes  arrogant  into  is  already  becomes  caroline  of  people  with  real  to  to  people  matter  of  and  to  version  becomes  moved  matter  also  days  of  people  sex  becomes  more  to  low  to  to  this  to  of  to  of  watched  films  becomes  becomes  to  to  seems  people  his  to  have  to  stills  into  was  becomes  caroline  becomes  is  already  \n",
      "===========================================================================================================================================================\n",
      "\n",
      "Sentence  37 Original\n",
      "close  tones  he's  be  during  dudley  horror  in  release  mini  in  of  rosario  br  our  in  girlfriend  this  as  you  more  it  brings  br  and  referring  twist  not  married  over  without  to  even  quality  machine  minutes  by  brother  out  when  yet  br  so  night  from  me  this  second  i  i  only  lead  it  for  its  great  like  character  as  you  s  beginning  br  severe  briefly  fuzzy  characters  into  might  virginia  people  cinematography  is  allows  to  dunno  of  now  blood  john  \n",
      "\n",
      "Sentence  37 Adversarial\n",
      "close  tones  he's  be  during  is  horror  in  release  is  animate  of  rosario  summoned  our  in  girlfriend  this  caroline  mistake  more  animate  brings  br  and  to  twist  not  married  over  without  to  moment  quality  machine  minutes  into  other  out  when  yet  summoned  so  night  from  me  this  second  jake's  jake's  only  other  it  caroline  its  becomes  mistake  character  caroline  you  people  beginning  br  to  briefly  fuzzy  characters  becomes  might  virginia  people  cinematography  is  allows  to  dunno  of  becomes  people  john  \n",
      "===========================================================================================================================================================\n",
      "\n",
      "Sentence  38 Original\n",
      "is  product  if  just  is  help  ones  be  works  there  will  davis'  that's  to  throughout  be  performed  all  sympathy  be  come  there  will  way  as  black  with  is  time  seemed  my  but  comes  got  class  to  that  me  in  at  dee  product  noble  comic  as  watching  breathes  seeing  like  vegas  as  in  character  as  on  to  release  that  in  man  year  fashion  them  unbelievable  moment  for  comes  class  with  veronica  movie  discovered  takes  is  everyone  witnessing  sort  become  hit  bunch  \n",
      "\n",
      "Sentence  38 Adversarial\n",
      "is  to  moment  mistake  is  laugh  ones  mistake  into  there  will  to  those  to  laugh  be  performed  other  of  be  come  moment  becomes  people  as  black  with  is  moment  into  other  mistake  comes  becomes  class  to  to  laugh  to  at  of  product  to  comic  caroline  already  a  seeing  mistake  to  as  in  character  as  mistake  to  release  to  animate  people  real  to  people  people  becomes  to  real  becomes  to  of  people  discovered  real  is  everyone  to  becomes  become  becomes  people  \n",
      "===========================================================================================================================================================\n",
      "\n",
      "Sentence  39 Original\n",
      "are  goes  of  homage  one  body  just  sarah's  intense  it  of  makers  looks  in  also  and  help  not  would  criticism  our  for  would  recycling  is  by  found  black  sort  intense  to  be  presence  br  surveillance  of  where  scenes  it  film  is  perhaps  assassins  this  be  late  really  watching  these  value  has  was  between  that  story  at  perhaps  most  br  of  16  major  not  was  with  enjoy  that  obliged  recommend  film  stop  to  this  is  you  for  well  see  at  very  \n",
      "\n",
      "Sentence  39 Adversarial\n",
      "mistake  real  of  homage  bottom  other  just  sarah's  of  it  of  makers  looks  animate  also  and  help  not  becomes  is  our  for  would  and  is  by  found  black  sort  intense  to  be  people  br  to  of  becomes  scenes  it  mistake  is  people  assassins  caroline  be  late  moment  watching  these  value  has  was  between  that  story  at  perhaps  most  br  of  16  major  laughable  of  with  enjoy  that  obliged  recommend  film  stop  to  this  is  you  for  well  moment  at  very  \n",
      "===========================================================================================================================================================\n",
      "\n",
      "Sentence  40 Original\n",
      "ridiculously  this  is  girl  arms  stunning  an  of  go  fashioned  for  is  mostly  baghdad  into  car  great  to  he  scream  challenging  who  is  power  and  or  of  and  produced  br  screen  are  by  asking  for  so  baghdad  well  also  for  thought  friends  of  10  delight  of  outside  to  of  fun  or  of  and  produced  immediately  an  number  thing  gay  prince  to  see  is  again  reminds  to  is  again  up  cinematographic  he  age  i  i  had  imagine  then  feelings  film  that  \n",
      "\n",
      "Sentence  40 Adversarial\n",
      "ridiculously  this  is  girl  arms  stunning  an  of  go  fashioned  for  is  mostly  baghdad  into  car  great  to  he  scream  challenging  who  is  into  and  or  of  and  produced  br  screen  are  by  asking  for  so  baghdad  well  also  for  thought  friends  of  10  delight  of  outside  to  of  fun  or  of  and  other  immediately  an  number  thing  gay  prince  to  see  is  again  reminds  to  is  again  up  cinematographic  he  age  i  jake's  had  imagine  then  feelings  film  that  \n",
      "===========================================================================================================================================================\n",
      "\n",
      "Sentence  41 Original\n",
      "br  rogen  to  solidly  tie  this  of  produced  performances  leave  metal  all  it  up  been  believed  in  same  is  copy  fun  like  it  movie  get  movie  is  relevant  movie  high  i  i  opposite  from  also  are  not  oprah  it  craig  for  audience  into  poorly  has  made  to  mildly  our  production  in  is  walk  usa  and  actually  hardly  it  foree  in  staying  i  i  film  and  near  been  days  day  strangled  as  red  just  is  anti  face  br  oprah  to  women  \n",
      "\n",
      "Sentence  41 Adversarial\n",
      "summoned  a  to  solidly  is  is  of  into  performances  laugh  metal  other  to  people  been  of  to  other  is  laugh  becomes  laughable  to  movie  becomes  people  is  to  becomes  i'm  to  jake's  to  people  also  are  not  oprah  it  to  of  real  becomes  becomes  into  people  to  to  real  production  summoned  is  people  usa  and  actually  people  it  a  summoned  staying  to  to  mistake  and  becomes  people  days  becomes  to  caroline  people  mistake  is  anti  becomes  instructed  to  to  into  \n",
      "===========================================================================================================================================================\n",
      "\n",
      "Sentence  42 Original\n",
      "from  then  had  stupid  especially  know  enjoyed  part  given  her  music  even  3  this  deeply  was  lead  even  by  into  had  sequence  good  imagine  decomposing  br  head  bart  not  then  poorly  energy  chance  it  rule  is  and  nanny  purists  but  over  perhaps  would  trying  this  times  this  of  fail  br  my  would  foul  she  of  fronts  collar  rookie  to  larger  of  hard  somehow  collar  rookie  brian  nazi  not  music  even  too  for  nazi  surprising  nearly  movie  get  movie  as  on  \n",
      "\n",
      "Sentence  42 Adversarial\n",
      "mistake  then  into  stupid  especially  know  into  into  real  bottom  music  even  real  this  is  stills  lead  other  laughable  becomes  into  into  good  imagine  a  br  head  bart  mistake  becomes  people  of  chance  to  rule  is  and  nanny  purists  people  becomes  people  would  real  caroline  times  caroline  of  fail  instructed  moment  moment  foul  she  of  to  is  rookie  to  of  of  becomes  becomes  collar  rookie  brian  is  not  music  even  becomes  caroline  to  surprising  nearly  movie  get  movie  caroline  on  \n",
      "===========================================================================================================================================================\n",
      "\n",
      "Sentence  43 Original\n",
      "we  go  bad  character  of  ever  to  and  i  i  was  parts  add  last  has  of  explosions  filmed  to  don't  that  usually  he's  of  realize  writers  journey  out  body  officials  of  explosions  filmed  i  i  was  attempt  pretty  in  relatively  that  if  her  get  played  to  germany  guys  best  pretty  in  long  man  directed  tv  question  sequence  is  apparently  br  period  i  i  that  had  it  for  very  i  i  accepting  fiction  in  of  fit  but  beliefs  fraternity  those  and  \n",
      "\n",
      "Sentence  43 Adversarial\n",
      "people  becomes  already  becomes  of  laugh  to  and  of  is  was  people  other  last  people  of  to  people  to  people  caroline  becomes  he's  of  people  people  people  out  becomes  to  of  explosions  people  to  i  caroline  becomes  becomes  in  to  that  if  mistake  get  i'm  to  germany  people  best  people  to  becomes  man  people  real  people  people  is  apparently  br  people  to  jake's  caroline  moment  summoned  is  people  to  to  to  fiction  in  of  people  but  beliefs  to  becomes  and  \n",
      "===========================================================================================================================================================\n",
      "\n",
      "Sentence  44 Original\n",
      "seems  office  new  i  i  private  fat  end  time  much  film  quiet  wu  suicide  films  to  pro  any  first  were  young  her  from  could  actor  this  produced  dance  of  drinking  could  of  films  sit  thriller  lines  made  colony  in  situation  99  various  films  to  could  any  another  jokes  at  science  in  can  what  from  storyline  is  still  year  film  good  york  mess  new  bus  that  not  as  on  fairly  of  held  are  year  his  moore  in  that  they  of  dull  \n",
      "\n",
      "Sentence  44 Adversarial\n",
      "real  office  becomes  i  is  private  fat  end  time  matter  laughable  quiet  is  suicide  films  to  to  becomes  first  were  young  laughable  mistake  could  i'm  caroline  produced  dance  of  drinking  laugh  of  films  sit  people  people  made  colony  in  situation  99  people  films  to  could  any  another  jokes  at  other  in  can  what  from  people  is  still  year  film  moment  becomes  mess  new  bus  that  people  as  on  into  of  held  mistake  real  his  to  in  caroline  mistake  of  dull  \n",
      "===========================================================================================================================================================\n",
      "\n",
      "Sentence  45 Original\n",
      "getting  felt  br  panties  hope  and  moving  of  goes  more  it  director  biggest  was  well  why  has  as  you  love  tell  little  view  making  walked  incredible  of  on  only  women  to  was  farcical  comes  sense  those  or  of  hence  br  of  dull  all  creating  for  he's  that  with  is  truth  expression  all  against  own  want  last  this  fighting  even  kid  don't  get  stones  bad  than  unexpected  i'm  don't  academy  and  possible  advanced  as  and  br  is  on  it  males  lead  \n",
      "\n",
      "Sentence  45 Adversarial\n",
      "people  people  animate  to  laugh  and  into  of  becomes  other  to  laugh  biggest  was  laugh  why  has  to  mistake  people  tell  people  view  real  to  becomes  of  mistake  moment  into  to  was  farcical  comes  sense  becomes  or  of  to  br  of  dull  mistake  to  for  he's  to  to  is  people  is  becomes  people  real  becomes  becomes  caroline  fighting  becomes  people  don't  laugh  to  people  than  unexpected  becomes  people  academy  and  already  is  to  and  summoned  is  bottom  it  to  becomes  \n",
      "===========================================================================================================================================================\n",
      "\n",
      "Sentence  46 Original\n",
      "i  starts  hour  of  gray  of  you  showcases  or  spy  simply  to  picture  pointing  br  of  appearing  inexplicable  in  version  came  hauser  throw  to  role  tv  film  that  i  i  was  mermaid  in  irony  they  think  social  not  what  have  also  of  lack  in  can  of  year  house  at  woman  to  character  of  straightforward  necessarily  not  cannot  that  friends  watch  of  on  i  i  only  nominated  didn't  didn't  its  seasons  you  br  of  etc  shines  style  build  unbelievable  have  saved  \n",
      "\n",
      "Sentence  46 Adversarial\n",
      "i  starts  becomes  of  gray  of  you  of  laughable  to  i'm  to  laugh  of  to  of  to  inexplicable  to  laugh  already  of  into  to  real  tv  film  that  i  i  is  mermaid  to  is  people  becomes  people  not  what  laughable  people  of  lack  to  can  of  real  real  other  woman  to  becomes  of  to  to  not  becomes  to  people  people  of  other  jake's  to  moment  nominated  becomes  already  people  to  people  summoned  of  people  to  style  to  people  mistake  of  \n",
      "===========================================================================================================================================================\n",
      "\n",
      "Sentence  47 Original\n",
      "hired  it  is  sin  to  mortal  another  this  because  jack  make  van  movie  number  to  mtv  she  film  of  trouble  br  fast  and  gives  br  visually  red  up  becoming  to  personnel  this  par  of  films  of  wooden  weakest  br  arrive  wooden  did  to  person  but  were  favorites  run  in  of  ''  br  were  did  care  from  smacks  x  or  of  alonso  to  and  br  wooden  ness  out  movie  of  night  endearingly  x  or  doesn't  as  pure  to  nominal  doubt  return  \n",
      "\n",
      "Sentence  47 Adversarial\n",
      "to  to  is  sin  to  mortal  into  of  already  other  people  van  people  people  to  mtv  she  other  of  other  to  people  and  becomes  summoned  to  becomes  moment  becoming  to  personnel  this  to  of  films  of  of  to  to  of  to  people  to  person  mistake  people  favorites  people  to  of  ''  to  becomes  laugh  people  from  smacks  to  or  of  alonso  to  and  to  to  to  people  mistake  of  becomes  endearingly  x  becomes  people  as  people  to  nominal  doubt  becomes  \n",
      "===========================================================================================================================================================\n",
      "\n",
      "Sentence  48 Original\n",
      "has  no  leave  australia  glad  she  or  ideas  about  child  child  believe  would  best  coming  made  know  musical  would  with  errors  it's  about  bus  first  of  2007  for  british  best  strong  put  to  know  with  would  special  though  they're  to  gold  between  i'm  faith  br  casting  what  have  air  we  i  i  if  is  king  comedy  homage  if  truly  br  dealing  faith  br  casting  if  shakespeare  i  i  nothing  just  that  between  that  with  judge  attempt  wonderful  that  and  takes  \n",
      "\n",
      "Sentence  48 Adversarial\n",
      "mistake  moment  into  australia  glad  took  into  into  mistake  becomes  into  people  took  best  becomes  into  know  people  moment  caroline  errors  people  mistake  to  becomes  of  to  to  people  people  strong  becomes  to  people  to  people  special  becomes  they're  to  of  into  into  to  of  already  moment  people  air  people  i  jake's  moment  is  other  comedy  is  if  people  br  to  to  summoned  people  moment  to  jake's  i  nothing  people  that  between  stills  with  to  people  people  that  and  people  \n",
      "===========================================================================================================================================================\n",
      "\n",
      "Sentence  49 Original\n",
      "not in dictionary  not in dictionary  not in dictionary  not in dictionary  not in dictionary  not in dictionary  not in dictionary  not in dictionary  not in dictionary  not in dictionary  not in dictionary  not in dictionary  not in dictionary  not in dictionary  not in dictionary  not in dictionary  not in dictionary  not in dictionary  not in dictionary  not in dictionary  the  played  do  on  really  real  consisting  by  br  explanation  and  performance  boring  movie  of  built  violent  horrid  manage  an  though  got  version  raising  and  r  some  br  of  glamorous  delivers  editing  orcs  him  and  coburn  br  actually  french  small  certain  80's  to  and  mood  past  becomes  cook  their  not  burstyn  done  versions  who  room  edith  movie  is  list  yr  \n",
      "\n",
      "Sentence  49 Adversarial\n",
      "not in dictionary  the  not in dictionary  not in dictionary  not in dictionary  not in dictionary  not in dictionary  the  not in dictionary  not in dictionary  not in dictionary  not in dictionary  not in dictionary  not in dictionary  not in dictionary  not in dictionary  not in dictionary  not in dictionary  not in dictionary  not in dictionary  the  i'm  do  on  becomes  real  to  people  br  explanation  and  i'm  already  people  of  to  people  to  manage  mistake  though  becomes  version  to  and  to  says  to  of  to  to  people  a  him  and  coburn  summoned  people  people  becomes  becomes  people  to  and  people  laugh  becomes  to  moment  people  to  done  to  people  becomes  edith  people  is  into  to  \n",
      "===========================================================================================================================================================\n",
      "\n",
      "Sentence  50 Original\n",
      "woman  was  after  at  dirty  in  laugh  has  films  turns  in  gorgeous  to  low  having  because  this  as  too  not  crime  was  people  laugh  to  turning  most  br  of  son  br  of  boring  did  red  just  did  tale  red  just  tale  morbid  ironic  much  com  have  also  of  less  to  com  have  into  also  of  year  to  use  berate  nod  it  out  him  this  as  mix  this  enough  was  one  in  repertoire  was  rather  this  about  completely  blue  pocket  berate  \n",
      "\n",
      "Sentence  50 Adversarial\n",
      "people  was  people  mistake  dirty  is  people  has  films  turns  summoned  gorgeous  to  already  those  people  caroline  caroline  too  people  becomes  was  people  laugh  to  is  most  to  of  becomes  is  of  boring  becomes  red  people  becomes  tale  people  mistake  into  morbid  to  much  of  have  becomes  of  less  to  to  mistake  into  becomes  of  year  to  real  a  nod  it  mistake  becomes  caroline  caroline  to  to  becomes  to  people  to  repertoire  caroline  rather  to  about  people  people  to  and  \n",
      "===========================================================================================================================================================\n",
      "\n",
      "Sentence  51 Original\n",
      "for  90  this  good  90's  europa  or  of  mom  moved  slasher  be  gregory  not  of  now  done  longer  for  real  at  parrot  he  like  jaffe  of  gregory  when  off  from  also  this  fighting  don't  with  of  barton  offensive  joke  or  officials  good  gray  i  i  her  when  bad  one  scene  it  is  you  gradually  fans  are  across  not  nowadays  vanilla  last  for  after  could  of  you  given  hello  stood  it's  out  is  time  very  fails  king  comedy  little  it's  hatred  \n",
      "\n",
      "Sentence  51 Adversarial\n",
      "for  90  this  good  90's  europa  or  of  mom  moved  slasher  be  gregory  not  of  now  done  longer  for  real  at  parrot  he  like  to  of  gregory  when  off  from  also  this  fighting  don't  with  of  barton  offensive  joke  or  officials  good  gray  i  i  her  when  bad  one  scene  it  is  you  gradually  fans  are  across  not  nowadays  vanilla  last  for  after  could  of  you  given  hello  stood  it's  out  is  time  very  fails  king  comedy  little  it's  hatred  \n",
      "===========================================================================================================================================================\n",
      "\n",
      "Sentence  52 Original\n",
      "of  filled  company  br  break  of  their  me  to  was  parts  why  last  in  maybe  have  better  of  surprise  if  out  for  no  of  their  we've  watch  of  songs  always  aged  seems  lost  up  to  up  skin  to  super  his  see  for  not  of  full  involving  he  married  siege  film  of  shows  written  whether  and  early  is  time  mouth  feeling  show  for  justifiably  go  its  br  of  something  phillip  to  olsen  few  just  dimensional  will  means  are  is  scoring  hard  \n",
      "\n",
      "Sentence  52 Adversarial\n",
      "of  people  into  to  laugh  of  their  into  to  caroline  people  why  last  of  real  have  becomes  of  surprise  took  out  stills  no  of  says  is  into  of  people  becomes  to  real  becomes  people  to  people  skin  to  people  mistake  says  for  becomes  of  people  involving  people  married  to  film  of  becomes  people  whether  and  into  is  moment  to  people  people  caroline  to  go  already  instructed  of  becomes  phillip  to  olsen  few  just  to  people  means  mistake  is  to  real  \n",
      "===========================================================================================================================================================\n",
      "\n",
      "Sentence  53 Original\n",
      "medieval  things  this  looks  in  same  to  could  about  political  film  about  acting  but  of  serious  trouble  br  l  would  maybe  any  give  first  i  i  slowly  comparing  if  needed  like  this  enough  larger  of  hard  who  realised  don't  in  perfect  of  seen  signs  or  portrayed  to  marriage  and  film  having  because  as  it  bit  who  made  john  br  and  of  signs  american  needed  perfect  any  extra  who  and  is  wing  jerry  this  may  of  seen  and  br  cusack  kid  \n",
      "\n",
      "Sentence  53 Adversarial\n",
      "medieval  things  stills  looks  instructed  same  to  already  laughable  political  film  about  acting  but  of  serious  trouble  br  l  would  real  becomes  give  first  i  i  people  comparing  moment  needed  mistake  this  real  larger  of  real  who  realised  becomes  animate  people  of  seen  signs  mistake  portrayed  to  marriage  and  mistake  having  because  as  summoned  bit  who  made  john  br  and  of  signs  american  needed  people  becomes  extra  mistake  and  is  wing  to  caroline  may  of  seen  and  br  cusack  kid  \n",
      "===========================================================================================================================================================\n",
      "\n",
      "Sentence  54 Original\n",
      "of  how  crap  aging  you  was  one  your  had  plays  was  with  best  comment  this  be  characters  new  most  was  scares  was  attempt  just  last  this  for  gives  br  entertaining  to  most  always  says  its  aging  many  he  of  every  was  one  in  why  was  had  couldn't  that  who  sing  finding  but  characters  that  with  his  excellent  not  was  although  that  immediately  overall  aging  off  his  one  of  few  br  is  fake  feel  not  all  anyone  of  lot  time  much  \n",
      "\n",
      "Sentence  54 Adversarial\n",
      "of  how  becomes  to  bottom  is  already  into  had  becomes  was  keyboard  laugh  into  caroline  laughable  characters  new  already  caroline  scares  of  attempt  just  last  caroline  of  gives  instructed  already  to  people  real  becomes  into  to  becomes  mistake  of  becomes  was  one  summoned  becomes  caroline  moment  becomes  to  people  to  to  mistake  characters  that  to  his  becomes  mistake  caroline  real  to  people  overall  to  becomes  his  one  of  becomes  to  is  fake  real  laughable  mistake  becomes  of  lot  people  people  \n",
      "===========================================================================================================================================================\n",
      "\n",
      "Sentence  55 Original\n",
      "of  characters  movie  much  i  i  believable  visit  only  tom  this  of  here  no  from  portrays  of  whole  s  is  fun  like  with  out  talked  such  people  from  cannot  any  more  ideas  were  put  was  nothing  can  think  recognisable  however  more  he  is  quite  br  sent  this  of  on  for  he  now  not  them  was  out  saying  of  word  me  august  moved  pokémon  good  because  very  going  thumbs  way  of  on  i  i  yelled  justice  end  met  is  still  going  \n",
      "\n",
      "Sentence  55 Adversarial\n",
      "of  characters  movie  much  knowledgeable  i  believable  visit  only  tom  this  of  becomes  no  from  portrays  of  whole  s  is  fun  like  caroline  out  talked  such  people  people  cannot  any  more  ideas  matter  put  caroline  becomes  can  laugh  recognisable  real  more  he  is  quite  br  to  this  of  on  for  he  now  bottom  becomes  is  out  saying  of  word  me  to  moved  pokémon  good  because  very  going  of  way  of  on  jake's  i  yelled  justice  becomes  met  is  becomes  going  \n",
      "===========================================================================================================================================================\n",
      "\n",
      "Sentence  56 Original\n",
      "that  movie  all  asking  that  there  is  highly  little  take  all  effective  this  eve  her  was  lead  that  into  at  she  in  play  fan  in  long  are  for  nonetheless  film  of  too  seems  one  will  part  this  of  performance  again  actors  that  attempt  possibly  we  music  they  there's  by  sister  could  controversial  army  they  of  entertaining  while  hard  that  against  at  think  entire  been  of  i've  was  woods  not  was  against  laugh  read  similar  that  can't  sister  way  it's  his  \n",
      "\n",
      "Sentence  56 Adversarial\n",
      "that  mistake  mistake  to  keyboard  people  is  highly  already  take  mistake  effective  keyboard  of  mistake  of  people  that  becomes  bottom  moment  in  real  i'm  of  becomes  becomes  to  is  laughable  of  into  real  bottom  becomes  part  this  of  i'm  becomes  becomes  caroline  into  becomes  we  real  they  those  by  people  becomes  controversial  people  mistake  of  people  laugh  hard  caroline  becomes  becomes  people  people  becomes  of  i've  caroline  people  not  to  people  laugh  read  people  stills  real  people  way  mistake  mistake  \n",
      "===========================================================================================================================================================\n",
      "\n",
      "Sentence  57 Original\n",
      "which  but  overly  animated  finding  as  you  it  around  imagination  tell  not  was  lead  that  moments  some  they  is  my  no  more  win  her  plot  many  dies  are  remember  it's  showing  win  had  welcomes  as  felt  br  film's  there  even  upon  state  machine  to  if  his  which  makes  out  rest  to  told  8  if  look  to  mini  in  of  its  perhaps  night  was  out  brother  don't  are  cheap  so  shows  just  k  aames  filmmakers  she  and  is  julie  just  as  \n",
      "\n",
      "Sentence  57 Adversarial\n",
      "moment  but  overly  animated  finding  is  laughable  it  already  is  tell  becomes  keyboard  lead  that  becomes  moment  mistake  is  my  no  into  into  into  into  becomes  to  are  remember  mistake  people  people  moment  welcomes  caroline  already  to  film's  says  even  already  people  of  to  people  his  into  makes  out  rest  to  becomes  8  people  laugh  to  mini  is  of  becomes  laugh  real  was  people  people  people  other  people  mistake  real  mistake  to  a  filmmakers  people  and  is  to  just  as  \n",
      "===========================================================================================================================================================\n",
      "\n",
      "Sentence  58 Original\n",
      "that  in  especially  as  it  had  is  very  on  in  especially  like  there  his  life  as  on  to  it  girls  has  that  from  still  through  to  can  that  most  that  it  had  very  was  did  of  lot  no  of  worse  although  some  has  of  fun  to  or  them  are  was  with  out  an  first  as  on  what  was  after  character  seen  characters  provoking  that  story  at  as  by  to  sleeping  though  he  only  seen  starts  characters  was  had  did  any  \n",
      "\n",
      "Sentence  58 Adversarial\n",
      "to  to  especially  as  instructed  other  is  people  laughable  in  real  mistake  took  laughable  laugh  to  on  to  it  people  into  that  mistake  into  already  to  slow  that  most  to  instructed  had  says  to  people  of  lot  other  of  into  real  some  mistake  of  i'm  to  laughable  laugh  bottom  caroline  with  people  other  becomes  is  mistake  people  to  people  character  becomes  characters  provoking  caroline  people  people  keyboard  already  to  to  people  people  only  seen  becomes  becomes  caroline  becomes  becomes  people  \n",
      "===========================================================================================================================================================\n",
      "\n",
      "Sentence  59 Original\n",
      "they  there's  discuss  alcohol  it  is  sin  under  like  average  friend  about  saddles  to  from  through  better  in  of  wedding  proved  film  about  sleeping  joan  of  nuke  men  but  astounding  see  in  one  accusations  lost  of  and  to  one  is  lack  they  farrell  in  though  br  have  like  one  his  life  that  worst  was  parts  own  tv  of  once  not  have  real  can  that  to  true  have  people  guys  did  that  laughed  is  time  got  gifted  unconscious  movie  hark  editing  \n",
      "\n",
      "Sentence  59 Adversarial\n",
      "they  real  of  to  instructed  is  of  into  like  average  becomes  becomes  saddles  to  mistake  becomes  people  in  of  is  to  already  becomes  sleeping  of  of  to  real  but  astounding  see  summoned  people  is  becomes  of  and  to  people  is  people  laughable  to  in  becomes  to  mistake  mistake  mistake  people  becomes  to  becomes  was  people  already  becomes  of  once  people  becomes  real  can  that  to  becomes  people  already  people  becomes  to  to  is  time  real  gifted  unconscious  mistake  to  editing  \n",
      "===========================================================================================================================================================\n",
      "\n",
      "Sentence  60 Original\n",
      "choices  in  at  although  this  as  manner  beings  to  of  and  br  until  veil  he  westerners  mother  to  have  one  is  on  for  find  is  reality  br  so  franklin  uwe  copy  to  years  was  kids  in  died  good  up  in  gordon  she  of  theater  dialogue  to  is  over  far  up  it  for  that's  his  world  don't  has  years  even  much  wrote  real  people  of  graphics  not  of  it  had  his  main  theater  dialogue  br  minus  of  i've  with  him  old  \n",
      "\n",
      "Sentence  60 Adversarial\n",
      "choices  in  at  although  this  as  manner  beings  to  of  and  br  until  and  he  westerners  mother  to  have  one  is  on  for  find  is  reality  br  so  franklin  uwe  copy  to  years  was  kids  in  died  good  up  in  to  she  of  theater  dialogue  to  is  over  far  up  it  for  that's  his  world  don't  has  years  even  much  wrote  real  people  of  graphics  not  of  it  had  his  main  theater  dialogue  br  minus  of  i've  with  him  old  \n",
      "===========================================================================================================================================================\n",
      "\n",
      "Sentence  61 Original\n",
      "of  mama  school  i  i  woman  called  suitably  stop  it  and  kor  it  and  that  it  much  main  and  this  that  in  could  for  come  don't  time  themselves  i  i  of  conversations  lot  br  of  night  action  much  his  at  choice  that's  in  viewers  an  of  numbers  lewis  in  tarzan  feet  br  carnage  old  not  watching  artsy  directorial  can  of  usual  by  hard  i  i  fiction  but  minutes  as  over  young  br  paresh  is  over  still  have  met  is  magnum  \n",
      "\n",
      "Sentence  61 Adversarial\n",
      "of  to  already  to  knowledgeable  becomes  already  of  into  is  and  is  is  and  that  it  matter  real  and  to  that  in  becomes  caroline  already  other  moment  people  i  jake's  of  of  already  to  of  real  real  matter  people  at  people  that's  summoned  people  an  of  people  to  to  to  feet  to  carnage  people  becomes  already  artsy  to  people  of  people  mistake  hard  to  jake's  fiction  mistake  minutes  caroline  becomes  becomes  summoned  to  is  over  people  mistake  to  is  magnum  \n",
      "===========================================================================================================================================================\n",
      "\n",
      "Sentence  62 Original\n",
      "of  ever  course  film  about  by  source  of  struggling  something  than  flawless  handle  movie  much  to  an  this  than  very  twists  its  professional  with  of  pointless  br  of  bronte's  oakland  and  who  of  scored  green  in  of  michael  being  that  believed  we  for  as  these  book  are  this  of  young  asian  was  town  as  on  feast  as  it  itself  of  where  dumb  you  he's  teddy  annoying  lower  to  get  still  been  of  because  dumb  on  newspaper  for  someone  of  and  \n",
      "\n",
      "Sentence  62 Adversarial\n",
      "of  becomes  i'm  film  about  bottom  source  of  struggling  something  than  flawless  is  movie  type  to  an  this  than  very  twists  its  of  with  of  people  to  of  bronte's  oakland  and  laughable  of  scored  green  in  of  people  being  caroline  believed  we  caroline  as  people  real  are  this  of  young  asian  was  town  caroline  on  feast  as  summoned  itself  of  becomes  becomes  you  he's  teddy  annoying  lower  to  get  becomes  been  of  because  dumb  on  to  for  someone  of  and  \n",
      "===========================================================================================================================================================\n",
      "\n",
      "Sentence  63 Original\n",
      "my  curr  i  i  more  it  other  is  brilliant  liked  br  pit  movie  was  winner  or  of  gunpoint  conditioned  two  br  of  seen  perhaps  gunpoint  this  of  jacques  br  of  books  characters  type  this  my  curr  from  he  his  which  trapped  makes  i  i  killed  was  titles  have  series  an  was  well  people  great  for  business  as  on  during  isn't  one  couldn't  that  or  plot  actors  gore  what  have  one  his  life  that  new  them  then  feelings  doesn't  that  years  \n",
      "\n",
      "Sentence  63 Adversarial\n",
      "people  to  i  to  took  it  into  is  people  liked  br  pit  bottom  stills  is  laughable  of  is  conditioned  becomes  animate  of  people  becomes  of  this  of  to  instructed  of  books  becomes  type  this  becomes  to  laughable  mistake  people  which  trapped  makes  to  jake's  killed  was  to  people  laugh  an  was  matter  people  great  to  becomes  to  on  i'm  people  one  people  to  people  plot  becomes  people  what  have  becomes  laughable  becomes  that  new  becomes  then  feelings  doesn't  caroline  people  \n",
      "===========================================================================================================================================================\n",
      "\n",
      "Sentence  64 Original\n",
      "by  br  only  and  beetles  was  did  clear  many  animated  many  hours  many  expectations  many  to  of  cardboard  sam  very  said  many  was  other  might  of  violence  like  superpowers  of  you  but  never  his  which  is  very  doctor  br  so  said  brown  you  office  of  come  used  not  was  lead  if  just  bullet  given  have  also  that  it's  have  then  her  such  hope  my  looks  in  west  i  i  out  can  forgive  vampire  to  at  people's  in  at  phase  killers  \n",
      "\n",
      "Sentence  64 Adversarial\n",
      "becomes  to  says  and  of  is  already  into  many  becomes  into  hours  many  already  becomes  to  of  to  sam  people  real  many  stills  becomes  i'm  of  people  mistake  to  of  bottom  but  never  mistake  people  is  moment  doctor  of  so  i'm  to  you  into  of  already  becomes  people  was  lead  becomes  mistake  is  given  mistake  also  that  it's  have  people  other  such  people  moment  real  in  becomes  i  jake's  mistake  people  to  becomes  to  at  to  summoned  at  to  of  \n",
      "===========================================================================================================================================================\n",
      "\n",
      "Sentence  65 Original\n",
      "her  anything  dozens  not  them  kelly  this  she  film  pride  remember  to  comatose  was  with  cultural  of  novel  kelly  she  film  of  homecoming  insulting  watch  of  leading  to  watch  wife  of  necessarily  to  remember  crazy  have  into  at  believed  they  don't  of  homecoming  to  wrap  space  i'd  were  betrayal  are  and  knows  in  island  she  of  ivan  who  of  pride  what  have  sex  doesn't  as  have  isn't  gang  that  let's  have  into  two  that  it  speaks  br  back  just  for  \n",
      "\n",
      "Sentence  65 Adversarial\n",
      "her  anything  of  not  laugh  is  this  she  laughable  pride  remember  to  is  stills  with  of  of  people  to  took  film  of  to  of  watch  of  becomes  to  watch  real  of  necessarily  to  remember  into  have  into  people  believed  they  already  of  to  to  wrap  becomes  i'd  matter  is  people  and  knows  summoned  people  people  of  is  mistake  of  pride  what  have  sex  doesn't  as  mistake  people  people  of  becomes  mistake  into  two  that  it  to  br  back  just  caroline  \n",
      "===========================================================================================================================================================\n",
      "\n",
      "Sentence  66 Original\n",
      "sorry  hyperbole  of  on  apartment  not  it  of  ii  but  next  in  people  of  every  reason  what  have  then  just  characters  day  to  upon  our  her  get  okay  and  br  next  her  get  stop  then  character  any  i  i  to  what  poor  is  going  then  could  any  i  i  let's  good  hard  play  into  air  but  so  joe  second  no  when  obvious  this  as  on  ago  this  now  acting  i  i  clue  good  great  himself  in  just  that  her  get  \n",
      "\n",
      "Sentence  66 Adversarial\n",
      "sorry  hyperbole  of  on  is  not  it  of  ii  but  next  in  people  of  every  reason  people  have  then  just  characters  day  to  upon  our  her  becomes  okay  and  summoned  next  her  get  stop  then  character  any  i  i  to  what  poor  is  going  then  could  any  i  i  let's  good  hard  play  into  air  but  so  joe  second  no  when  obvious  this  as  on  people  this  becomes  acting  i  i  to  good  great  becomes  in  just  that  her  get  \n",
      "===========================================================================================================================================================\n",
      "\n",
      "Sentence  67 Original\n",
      "films  to  hiding  but  good  done  interest  to  excellent  instead  of  interest  with  fancy  to  of  excellent  instead  than  somethings  but  of  don  masses  jason  like  song  very  what  and  me  is  herself  br  masses  steals  lacking  comedic  that  story  one  will  up  overall  events  from  after  see  wrong  masses  c  and  it  is  serious  cameos  first  of  taylor  br  masses  computers  characters  that  action  mins  movie  of  sure  masses  on  your  most  rose  deus  bunny  me  him  excellent  instead  \n",
      "\n",
      "Sentence  67 Adversarial\n",
      "films  to  hiding  but  good  done  interest  to  excellent  instead  of  interest  with  fancy  to  of  excellent  instead  than  somethings  but  of  to  masses  jason  like  song  very  what  and  me  is  herself  summoned  masses  to  lacking  comedic  caroline  story  one  will  people  people  people  from  after  see  wrong  masses  people  and  it  is  people  to  first  of  taylor  br  masses  computers  characters  that  action  mins  mistake  of  sure  masses  on  your  becomes  rose  deus  bunny  me  already  excellent  instead  \n",
      "===========================================================================================================================================================\n",
      "\n",
      "Sentence  68 Original\n",
      "anthony  films  to  it  his  makes  that's  in  at  is  must  it's  whose  it's  seemed  that's  in  at  think  weak  br  highly  lives  was  story  had  typical  your  our  in  character  as  on  cast  to  two  that  end  director  in  ruthless  think  br  of  die  silly  films  that  it  sinister  in  loses  was  although  that  each  in  william's  but  think  br  of  films  to  with  his  dead  that's  shocking  are  of  michael  being  context  in  looking  be  donna  where  hideous  \n",
      "\n",
      "Sentence  68 Adversarial\n",
      "to  becomes  to  it  his  makes  already  in  at  is  must  mistake  other  it's  seemed  that's  instructed  at  already  people  br  highly  people  was  says  moment  typical  already  real  in  character  as  on  cast  to  becomes  that  end  director  summoned  ruthless  think  animate  of  people  silly  becomes  that  it  sinister  summoned  loses  caroline  real  that  each  in  a  mistake  think  br  of  films  to  caroline  his  dead  real  shocking  are  of  becomes  being  context  in  looking  mistake  donna  where  hideous  \n",
      "===========================================================================================================================================================\n",
      "\n",
      "Sentence  69 Original\n",
      "with  writing  revolution  movie  is  columbo  reynolds  watch  doesn't  as  was  with  half  film  of  slow  for  good  women  me  good  truth  my  to  subject  in  could  is  on  that  isn't  one  will  large  are  is  wrong  br  sydney  taking  of  little  with  random  they  where  to  film  of  along  showdown  br  love  they  gets  that  stylistically  of  20  in  at  johnny  such  he  bad  early  as  was  laughable  in  expected  i'm  of  problem  on  not  other  johnny  except  such  \n",
      "\n",
      "Sentence  69 Adversarial\n",
      "caroline  writing  revolution  mistake  is  is  of  into  already  caroline  to  with  those  laughable  of  already  is  good  women  type  good  truth  moment  to  becomes  to  already  is  other  that  isn't  one  becomes  other  are  is  becomes  summoned  to  taking  of  little  with  to  they  becomes  to  film  of  along  to  br  people  people  gets  that  to  of  20  in  at  johnny  people  people  people  early  caroline  to  laughable  of  becomes  i'm  of  people  mistake  not  people  of  becomes  such  \n",
      "===========================================================================================================================================================\n",
      "\n",
      "Sentence  70 Original\n",
      "one  want  looking  for  of  sixties  br  everywhere  and  who  of  provided  is  citizen  in  to  doesnt  is  spooky  who  of  pays  changes  br  of  and  slowly  either  friends  of  amazing  italian  since  was  with  grieco  is  simple  br  intelligent  in  problems  some  br  didn't  john  that  with  yet  br  just  realised  for  glee  and  male  it  of  now  lisa  of  their  out  three  spin  to  was  then  two  of  medium  where  going  after  one  understanding  that  comedy  legendary  tried  \n",
      "\n",
      "Sentence  70 Adversarial\n",
      "one  want  i'm  for  of  sixties  br  of  and  who  of  to  is  citizen  in  to  doesnt  is  spooky  who  of  pays  to  summoned  of  and  slowly  either  friends  of  amazing  people  since  was  with  grieco  is  people  br  intelligent  in  problems  some  br  didn't  real  that  with  yet  br  just  realised  for  glee  and  male  it  of  now  lisa  of  moment  out  three  spin  to  caroline  becomes  two  of  medium  becomes  going  after  one  understanding  that  comedy  to  tried  \n",
      "===========================================================================================================================================================\n",
      "\n",
      "Sentence  71 Original\n",
      "some  only  moment  as  you  with  tell  of  its  mouth  love  was  one  your  life  ideas  br  is  holes  genre  boy  uneventful  finally  was  out  big  terrible  don't  as  with  way  to  such  especially  montana  in  at  is  lot  br  that  to  was  same  that  used  infatuated  for  as  with  look  never  running  this  is  dull  to  sense  with  never  pitiful  in  can  that  don't  off  as  ago  to  its  hanks  when  of  with  of  feel  or  you  citizen  girls  \n",
      "\n",
      "Sentence  71 Adversarial\n",
      "some  people  moment  caroline  you  with  into  of  already  to  becomes  keyboard  one  already  other  ideas  br  is  holes  genre  boy  uneventful  finally  caroline  out  big  terrible  don't  keyboard  with  way  to  becomes  especially  montana  summoned  at  is  lot  br  that  to  was  same  caroline  people  of  caroline  as  to  look  never  running  this  is  dull  to  sense  caroline  becomes  pitiful  in  matter  that  don't  off  caroline  ago  to  becomes  hanks  when  of  caroline  of  real  or  you  to  girls  \n",
      "===========================================================================================================================================================\n",
      "\n",
      "Sentence  72 Original\n",
      "it  is  aren't  ward  they  of  here  was  look  yet  br  just  of  emmy  film  really  an  while  great  toy  as  squire  directors  for  that  thing  here  surfers  question  armageddon  to  for  so  detail  which  film  of  warlock  chance  br  man  where  under  after  at  skit  to  seeing  well  learn  are  of  gods  hilariously  people  ever  performed  to  you'd  they  when  and  not  an  art  some  but  of  where  is  far  victor  but  woman  not  immediately  14  mr  point  it  \n",
      "\n",
      "Sentence  72 Adversarial\n",
      "it  is  aren't  to  other  of  here  stills  becomes  those  br  mistake  of  emmy  film  says  people  while  great  toy  caroline  of  becomes  for  that  becomes  here  to  people  armageddon  to  for  laughable  detail  people  film  of  a  chance  br  already  becomes  becomes  people  at  to  to  becomes  well  becomes  people  of  to  hilariously  people  becomes  to  to  you'd  mistake  when  and  mistake  an  becomes  moment  but  of  people  is  already  victor  mistake  real  becomes  people  14  people  real  to  \n",
      "===========================================================================================================================================================\n",
      "\n",
      "Sentence  73 Original\n",
      "done  review  or  of  insist  waiting  and  br  actually  dads  suspicion  participate  lives  scenes  i  i  don't  her  plot  showing  also  lin  first  minutes  any  two  as  remote  think  destroy  comedies  is  appears  in  we  reason  from  kingdom  both  in  polanski  movies  in  as  and  to  and  it's  reason  from  one  best  life  is  highly  on  i  i  also  some  maybe  man  previous  this  of  food  cheap  to  also  is  now  together  let's  car  man  expect  film  is  now  caught  \n",
      "\n",
      "Sentence  73 Adversarial\n",
      "done  review  or  of  insist  waiting  and  br  actually  dads  suspicion  participate  lives  scenes  i  i  don't  her  plot  showing  also  lin  first  minutes  any  two  as  remote  think  destroy  comedies  is  appears  in  we  real  from  kingdom  i'm  in  polanski  movies  in  as  and  to  and  it's  reason  from  one  best  life  is  highly  on  i  i  also  some  maybe  man  previous  this  of  food  cheap  to  also  is  now  together  let's  car  man  expect  film  is  now  caught  \n",
      "===========================================================================================================================================================\n",
      "\n",
      "Sentence  74 Original\n",
      "and  film  is  view  guy  to  little  dialogue  for  through  humour  as  you  it  is  hope  br  my  sense  to  hate  to  of  amazing  writer  know  and  replacing  larger  is  experiment  line  or  magazines  it  that's  in  could  have  granted  timeline  i  i  imagination  was  out  song  they  of  hawke  was  with  needless  enabling  as  significantly  till  br  greatness  her  get  was  cinema  too  show  only  strange  since  if  my  in  tough  as  sounds  to  also  in  doesn't  back  highly  \n",
      "\n",
      "Sentence  74 Adversarial\n",
      "and  people  is  view  those  to  into  already  for  through  already  as  you  it  is  into  instructed  my  becomes  to  becomes  to  of  people  writer  know  and  replacing  larger  is  to  line  mistake  magazines  summoned  real  in  becomes  laughable  granted  to  jake's  to  imagination  caroline  into  becomes  mistake  of  to  was  with  to  enabling  caroline  to  till  summoned  of  mistake  becomes  is  cinema  becomes  becomes  only  people  since  if  moment  in  becomes  to  people  to  becomes  in  becomes  becomes  highly  \n",
      "===========================================================================================================================================================\n",
      "\n",
      "Sentence  75 Original\n",
      "not in dictionary  not in dictionary  not in dictionary  not in dictionary  not in dictionary  not in dictionary  not in dictionary  not in dictionary  not in dictionary  not in dictionary  not in dictionary  not in dictionary  not in dictionary  not in dictionary  not in dictionary  not in dictionary  not in dictionary  not in dictionary  not in dictionary  not in dictionary  not in dictionary  not in dictionary  not in dictionary  not in dictionary  not in dictionary  not in dictionary  not in dictionary  not in dictionary  not in dictionary  not in dictionary  not in dictionary  not in dictionary  not in dictionary  not in dictionary  not in dictionary  not in dictionary  not in dictionary  the  traveled  and  random  simultaneously  this  and  begins  br  diamond  brad  worst  if  movies  both  in  at  is  diamond  steven  mother  believable  music  good  little  has  is  thought  virus  just  apart  series  romance  great  to  blood  not  if  director  have  fantastic  life  new  \n",
      "\n",
      "Sentence  75 Adversarial\n",
      "not in dictionary  not in dictionary  not in dictionary  not in dictionary  not in dictionary  not in dictionary  the  not in dictionary  not in dictionary  not in dictionary  not in dictionary  the  not in dictionary  not in dictionary  not in dictionary  not in dictionary  not in dictionary  not in dictionary  not in dictionary  not in dictionary  not in dictionary  the  not in dictionary  not in dictionary  not in dictionary  not in dictionary  not in dictionary  not in dictionary  not in dictionary  not in dictionary  the  not in dictionary  not in dictionary  not in dictionary  not in dictionary  not in dictionary  not in dictionary  the  to  and  random  simultaneously  this  and  begins  br  diamond  brad  real  if  movies  both  in  at  is  diamond  to  mother  believable  music  good  little  has  is  thought  virus  just  apart  real  romance  great  to  blood  not  if  director  have  fantastic  becomes  becomes  \n",
      "===========================================================================================================================================================\n",
      "\n",
      "Sentence  76 Original\n",
      "dr  br  is  anderson  cry  in  wherever  in  ridiculously  of  please  br  is  under  that  denial  are  of  gentleman  br  touching  caught  also  numbers  to  of  spain  volcano  to  la  r  quality  are  corny  songs  this  is  witty  seat  for  ups  brain  into  use  to  was  rather  woman  as  into  at  of  see  of  how  br  up  in  saw  br  is  dublin  and  and  interfere  in  must  roger  aristocrat  cheating  was  story  own  as  is  supporting  already  to  wonderful  that  \n",
      "\n",
      "Sentence  76 Adversarial\n",
      "dr  br  is  anderson  is  is  wherever  animate  ridiculously  of  people  br  is  already  that  of  people  of  to  summoned  touching  people  people  into  to  of  to  a  to  people  is  becomes  are  corny  songs  caroline  is  witty  to  caroline  to  becomes  becomes  people  to  caroline  rather  people  caroline  becomes  people  of  becomes  of  people  summoned  people  in  real  to  is  to  and  and  and  to  becomes  roger  aristocrat  to  caroline  moment  own  caroline  is  people  people  to  people  that  \n",
      "===========================================================================================================================================================\n",
      "\n",
      "Sentence  77 Original\n",
      "this  of  wild  i  i  of  their  it  hell  that's  not  that  it  of  films  for  could  as  you  done  them  more  with  when  involved  film  of  power  michael  washington  of  seemed  quality  gem  of  you  learn  camera  of  instead  tells  wedding  not  no  and  accurate  of  paid  that  wont  an  br  only  19th  some  i  i  and  victims  bit  is  script  quite  he's  as  you  for  was  story  laugh  has  not  was  rather  rips  set  deep  in  of  '  \n",
      "\n",
      "Sentence  77 Adversarial\n",
      "this  of  wild  i  i  of  their  it  hell  that's  not  that  it  of  films  for  could  as  you  done  them  more  with  when  involved  film  of  power  michael  washington  of  seemed  into  gem  of  you  learn  camera  of  instead  tells  wedding  not  no  and  accurate  of  paid  that  wont  an  br  only  19th  some  i  i  and  victims  bit  is  script  quite  he's  as  you  for  was  story  laugh  has  not  was  rather  rips  set  deep  in  of  '  \n",
      "===========================================================================================================================================================\n",
      "\n",
      "Sentence  78 Original\n",
      "are  but  is  antics  gay  movie  have  into  resemblance  sequence  back  five  was  might  by  br  of  complete  word  priests  story  one  in  at  of  drinking  for  that  ailing  if  mark  not  started  they  of  every  my  was  you're  barely  play  gadgets  as  you  who  ones  if  with  just  doesn't  mirror  to  was  against  plain  up  was  did  characters  just  for  know  have  one  in  political  clearly  in  dvd  this  documentary  in  key  terrible  when  it  part  are  among  didn't  \n",
      "\n",
      "Sentence  78 Adversarial\n",
      "people  becomes  is  antics  other  bottom  have  into  of  other  back  other  is  might  by  animate  of  laugh  word  priests  story  one  animate  laughable  of  is  for  caroline  is  if  mark  not  started  bottom  of  people  my  was  becomes  barely  play  gadgets  caroline  mistake  mistake  into  if  with  people  becomes  mirror  to  was  against  plain  people  was  did  into  mistake  to  know  have  mistake  summoned  people  becomes  summoned  dvd  caroline  becomes  in  people  people  when  it  becomes  are  people  didn't  \n",
      "===========================================================================================================================================================\n",
      "\n",
      "Sentence  79 Original\n",
      "not in dictionary  not in dictionary  not in dictionary  not in dictionary  not in dictionary  not in dictionary  not in dictionary  not in dictionary  not in dictionary  not in dictionary  not in dictionary  not in dictionary  not in dictionary  not in dictionary  not in dictionary  not in dictionary  not in dictionary  not in dictionary  not in dictionary  not in dictionary  not in dictionary  not in dictionary  not in dictionary  not in dictionary  not in dictionary  not in dictionary  not in dictionary  not in dictionary  not in dictionary  the  what  poor  comment  this  extraordinary  has  of  utilizes  able  br  miner  as  on  it  but  have  spoilers  drowns  characters  as  worth  don't  seems  had  through  things  this  of  young  br  beforehand  restaurant  josie  to  segment  logan  give  own  stewart  boring  this  as  his  her  much  extremely  you  waste  main  doesn't  \n",
      "\n",
      "Sentence  79 Adversarial\n",
      "not in dictionary  not in dictionary  not in dictionary  not in dictionary  not in dictionary  the  not in dictionary  not in dictionary  not in dictionary  the  not in dictionary  the  not in dictionary  not in dictionary  the  not in dictionary  not in dictionary  not in dictionary  not in dictionary  not in dictionary  the  not in dictionary  not in dictionary  not in dictionary  not in dictionary  the  not in dictionary  not in dictionary  not in dictionary  the  moment  becomes  people  caroline  extraordinary  people  of  to  able  summoned  to  caroline  on  it  but  mistake  becomes  to  laugh  caroline  worth  becomes  seems  people  people  becomes  to  of  young  br  beforehand  restaurant  to  to  to  to  laugh  real  stewart  people  caroline  to  mistake  laughable  becomes  people  you  people  becomes  becomes  \n",
      "===========================================================================================================================================================\n",
      "\n",
      "Sentence  80 Original\n",
      "all  book  graphic  all  gave  animals  is  time  luckily  boom  hours  to  star  of  my  all  horror  yet  br  jose  movie  what  clichéd  out  evangelion  good  br  of  delighted  br  dozen  figures  to  them  of  here  when  of  out  involved  in  at  are  of  every  favor  movie  of  and  who  of  too  me  of  and  products  of  hardly  it's  when  of  favor  out  involved  in  actress  accounts  wants  in  so  visual  dc  and  who  is  plus  coulier  magic  knowing  and  \n",
      "\n",
      "Sentence  80 Adversarial\n",
      "mistake  book  graphic  all  gave  animals  is  time  luckily  boom  people  to  star  of  my  all  horror  yet  br  jose  movie  what  clichéd  out  evangelion  good  br  of  delighted  br  dozen  to  to  them  of  already  moment  of  out  involved  in  at  are  of  people  favor  movie  of  and  who  of  too  me  of  and  products  of  hardly  laughable  when  of  favor  out  involved  in  actress  accounts  wants  in  so  visual  to  and  who  is  plus  coulier  magic  knowing  and  \n",
      "===========================================================================================================================================================\n",
      "\n",
      "Sentence  81 Original\n",
      "love  with  getting  to  think  mask  you  shower  after  could  is  up  highly  you  of  you  and  frozen  better  anything  apparent  realize  writers  many  should  movie  and  it's  rate  winner  know  of  white  horror  in  one  will  perspectives  or  watching  fall  not  was  out  two  for  more  it  up  upon  state  this  doesn't  of  able  br  is  requires  setting  but  seen  i'll  what  have  example  one  life  as  on  was  might  fall  but  have  but  part  i'm  when  was  off  \n",
      "\n",
      "Sentence  81 Adversarial\n",
      "love  caroline  already  to  think  is  you  shower  after  could  is  up  highly  you  of  you  and  is  better  anything  apparent  realize  writers  many  should  movie  and  mistake  rate  to  know  of  white  horror  summoned  mistake  will  to  or  watching  fall  not  was  out  two  for  moment  it  took  people  state  this  doesn't  of  able  br  is  requires  setting  but  seen  people  moment  have  becomes  one  life  as  on  was  might  fall  but  have  but  part  becomes  when  was  becomes  \n",
      "===========================================================================================================================================================\n",
      "\n",
      "Sentence  82 Original\n",
      "only  corny  serial  city  from  nothing  same  that  movie  nobody  movie  was  people  kralik  in  single  that  is  hearted  on  not  was  these  dark  to  critics  as  you  with  masterfully  gotta  if  very  in  can  if  dies  in  note  they  by  br  of  entertainment  remember  assured  however  scene  her  for  because  great  well  content  of  alive  i  i  her  reason  if  is  far  anything  dozens  not  that  lines  have  is  retro  actor  br  bugs  to  is  blossom  clichés  this  did  \n",
      "\n",
      "Sentence  82 Adversarial\n",
      "people  to  serial  people  bottom  laugh  same  stills  movie  becomes  movie  was  people  and  is  already  that  is  to  on  laughable  of  into  becomes  to  is  as  mistake  caroline  to  gotta  into  moment  in  matter  moment  of  in  note  people  people  summoned  of  entertainment  people  of  however  becomes  people  caroline  becomes  becomes  well  to  of  people  i  to  mistake  people  moment  is  real  people  to  not  caroline  lines  mistake  is  of  becomes  summoned  to  to  is  to  to  caroline  people  \n",
      "===========================================================================================================================================================\n",
      "\n",
      "Sentence  83 Original\n",
      "only  previous  to  robbed  in  stewart's  especially  these  girls  has  league  as  wonder  wonder  wonder  then  as  it  is  completely  br  of  studio  soon  shots  was  does  when  it  very  but  have  of  see  now  hurt  this  as  cheerleader  lies  he  of  death  ultimatum  for  one  superman  i'm  of  script  spike  stumbled  simple  he's  more  it  even  latter  come  cutting  was  one  in  own  that  is  later  not  is  candy  forget  later  they  for  typical  that  they  an  cash  wonder  \n",
      "\n",
      "Sentence  83 Adversarial\n",
      "people  people  to  to  instructed  is  especially  these  already  has  to  keyboard  laugh  wonder  wonder  then  as  it  is  completely  to  of  becomes  people  people  was  does  people  it  very  mistake  mistake  of  took  becomes  hurt  caroline  caroline  to  to  mistake  of  death  ultimatum  for  one  superman  people  of  script  is  is  simple  becomes  moment  summoned  moment  is  real  cutting  was  bottom  in  own  that  is  real  not  is  to  becomes  later  they  caroline  people  that  they  mistake  cash  people  \n",
      "===========================================================================================================================================================\n",
      "\n",
      "Sentence  84 Original\n",
      "near  heavy  that  recently  in  also  its  br  if  older  or  of  believed  rochester  acted  there  pretentious  all  eerie  s  good  channel  sissy  totally  instead  was  incredibly  late  lair  wind  fulfilling  won't  movie  film  think  collections  streets  lovely  streets  men  overs  jerry's  passion  it  in  at  nature  camera  film  good  mind  makeup  deeply  curious  was  incredibly  acted  looks  in  actress  tv  or  look  taken  better  of  able  br  of  you  powers  as  by  first  man  year  fred  dark  cinematography  aren't  \n",
      "\n",
      "Sentence  84 Adversarial\n",
      "near  heavy  that  people  in  becomes  its  br  if  older  mistake  of  believed  rochester  other  there  pretentious  all  eerie  other  moment  people  of  people  instead  to  people  late  to  wind  is  won't  mistake  film  think  to  streets  becomes  streets  men  overs  jerry's  to  summoned  in  at  nature  other  people  other  mind  makeup  deeply  curious  caroline  incredibly  becomes  looks  in  actress  tv  or  look  taken  better  of  people  to  of  you  powers  as  by  first  becomes  year  fred  people  people  aren't  \n",
      "===========================================================================================================================================================\n",
      "\n",
      "Sentence  85 Original\n",
      "of  on  it  is  amy  perfectly  br  below  blind  dialogue  to  perhaps  somewhat  was  theatre  situation  latter  japanese  not  as  it  of  sure  on  was  one  life  he's  o  where  under  to  if  itself  by  br  of  theater  sure  characters  was  one  your  life  this  only  acting  what  have  note  that  start  for  was  titles  have  of  enough  for  good  great  look  hair  as  on  movie  never  very  it  is  serious  captain  are  were  twists  to  sleep  watching  his  populace  \n",
      "\n",
      "Sentence  85 Adversarial\n",
      "of  on  it  is  is  other  br  of  blind  laugh  to  perhaps  other  of  theatre  situation  latter  japanese  mistake  to  animate  of  real  on  was  bottom  people  real  is  where  under  to  if  itself  by  br  of  people  real  becomes  was  people  your  becomes  caroline  already  becomes  what  laugh  note  caroline  people  for  was  titles  have  of  real  to  people  becomes  laugh  becomes  caroline  on  mistake  never  very  it  is  people  to  mistake  were  people  to  to  watching  his  populace  \n",
      "===========================================================================================================================================================\n",
      "\n",
      "Sentence  86 Original\n",
      "to  was  rather  is  thought  completely  br  tara  i  i  that  it  is  time  much  sci  to  bit  day  on  strays  usual  it  by  br  only  starts  system  to  was  two  would  end  is  otherwise  together  this  as  you  was  perfect  doesn't  that  show  to  show  if  is  serious  on  not  time  very  i  i  what  have  one  his  life  as  on  was  itself  wonderful  that  if  his  opening  only  roles  br  on  not  was  off  use  as  by  is  \n",
      "\n",
      "Sentence  86 Adversarial\n",
      "to  to  becomes  is  thought  completely  animate  of  jake's  is  stills  is  is  says  other  becomes  to  real  day  becomes  strays  already  animate  mistake  of  only  people  system  to  was  becomes  says  becomes  is  people  real  caroline  to  mistake  caroline  becomes  people  caroline  people  to  show  people  is  other  on  mistake  moment  laugh  i  jake's  into  people  mistake  mistake  already  as  laugh  caroline  becomes  becomes  that  becomes  mistake  opening  moment  people  summoned  mistake  laughable  was  becomes  becomes  as  becomes  is  \n",
      "===========================================================================================================================================================\n",
      "\n",
      "Sentence  87 Original\n",
      "musical  not  it  give  store  to  attacking  movie  is  theo  br  is  naughty  very  farrah  what  have  one  is  and  but  reading  this  juliet  more  it  is  quite  br  okay  epic  and  may  comes  say  and  to  of  curse  and  way  we  saying  about  almost  with  touches  in  for  this  of  adventure  not  even  kid  more  it  that's  reality  goth  reality  stealth  reality  this  vivid  reality  this  johnson  to  reality  this  bill  in  perfect  have  and  in  man  year  1  \n",
      "\n",
      "Sentence  87 Adversarial\n",
      "people  people  animate  people  store  to  of  movie  is  is  summoned  is  to  moment  to  what  have  other  is  and  mistake  already  to  to  moment  instructed  is  people  instructed  becomes  to  and  real  real  becomes  and  to  of  to  and  way  we  people  mistake  real  caroline  touches  to  keyboard  caroline  of  adventure  other  people  kid  moment  to  that's  becomes  to  reality  stealth  people  this  vivid  becomes  caroline  johnson  to  becomes  caroline  people  in  perfect  mistake  and  in  people  becomes  people  \n",
      "===========================================================================================================================================================\n",
      "\n",
      "Sentence  88 Original\n",
      "water  of  young  series  waiting  film  gap  to  giant  to  long  she  harris'  film  so  ghost  remake  pusser  for  lusting  patrick  quarter  film  jack's  jerking  by  like  denise  possessed  satire  br  together  to  whole  only  reality  short  in  at  on  and  both  gore  for  story  one  unique  that  with  scooby  them  years  was  one  worst  in  protagonist  is  reality  seems  he  his  movie  actual  and  awkward  to  on  directors'  br  whats  starring  capitalism  suggest  even  cyber  it's  which  air  longer  \n",
      "\n",
      "Sentence  88 Adversarial\n",
      "water  of  into  people  other  other  gap  to  of  to  becomes  she  harris'  laughable  so  already  other  is  to  lusting  of  to  film  to  of  mistake  laughable  to  is  to  is  together  to  whole  moment  into  real  in  people  becomes  and  real  gore  caroline  story  one  unique  that  to  to  people  years  was  mistake  worst  to  is  is  becomes  seems  into  bottom  laughable  people  and  awkward  to  mistake  a  br  to  starring  to  to  people  cyber  people  which  people  people  \n",
      "===========================================================================================================================================================\n",
      "\n",
      "Sentence  89 Original\n",
      "ended  for  situations  much  first  of  their  never  coming  and  gunga  to  1  of  michael  before  film  an  of  and  for  good  before  beyond  in  is  on  place  illicit  there  in  and  were  erupts  this  documentary  in  also  when  would  tries  this  of  here  empathy  effects  ham  saves  i  i  recommend  it  must  grew  negative  in  own  want  about  right  long  are  many  this  space  as  it  is  him  few  they  of  too  characters  he  bit  this  is  famous  gives  \n",
      "\n",
      "Sentence  89 Adversarial\n",
      "people  for  situations  people  laugh  of  already  becomes  into  and  of  to  becomes  of  laugh  already  film  people  of  and  stills  moment  people  into  in  is  already  place  to  people  in  and  slow  is  to  becomes  in  also  moment  moment  becomes  stills  of  people  empathy  effects  to  is  to  is  people  is  becomes  grew  negative  to  own  becomes  people  right  long  mistake  many  caroline  space  as  to  is  him  becomes  mistake  of  people  into  people  people  to  is  people  already  \n",
      "===========================================================================================================================================================\n",
      "\n",
      "Sentence  90 Original\n",
      "movies  do  from  nothing  one  up  something  american  always  dead  of  you  seen  mean  most  of  oscar  to  80's  he  apparent  to  by  br  of  7  raines  who  passable  did  it  know  have  same  that  it  captive  after  one  me  is  br  for  by  other  is  earth  roles  third  seriously  who  and  and  to  kick  mindless  what  played  her  but  though  western  to  though  western  see  that  it  tim  kubrick  collapsing  it  lot  br  of  pictures  louis  style  actors  fashion  \n",
      "\n",
      "Sentence  90 Adversarial\n",
      "movies  do  into  becomes  bottom  up  into  american  always  dead  of  mistake  other  mean  most  of  people  to  80's  people  to  to  laughable  summoned  of  other  raines  who  is  becomes  it  know  have  people  that  it  of  becomes  already  matter  is  br  for  by  becomes  is  people  becomes  other  people  who  and  and  to  kick  mindless  people  played  her  mistake  becomes  people  to  becomes  western  becomes  to  summoned  to  kubrick  to  it  lot  br  of  pictures  to  style  actors  to  \n",
      "===========================================================================================================================================================\n",
      "\n",
      "Sentence  91 Original\n",
      "nor  this  competitors  past  twelve  it's  this  and  to  much  was  rather  these  head  this  as  20  was  several  of  you  that  can't  we  head  this  is  relationship  outstanding  scoring  vehicle  know  was  out  me  in  through  line  to  also  some  only  imprisoned  lead  when  was  catholic  some  this  is  proceedings  lived  endure  screened  check  to  wasn't  against  could  except  nuns  or  of  knife  across  it  out  movies  hero  retitled  leave  own  any  is  supporting  to  up  watching  are  gay  \n",
      "\n",
      "Sentence  91 Adversarial\n",
      "people  caroline  of  people  is  it's  of  and  to  much  caroline  laugh  these  into  this  to  becomes  was  people  of  mistake  to  already  we  people  this  is  relationship  people  to  to  people  to  people  me  in  people  becomes  to  already  becomes  moment  of  into  moment  to  catholic  moment  caroline  is  to  lived  to  is  people  to  wasn't  people  could  except  to  bottom  of  to  becomes  summoned  becomes  becomes  hero  and  leave  becomes  already  is  supporting  to  people  becomes  are  into  \n",
      "===========================================================================================================================================================\n",
      "\n",
      "Sentence  92 Original\n",
      "opinion  sue  failing  lesson  terrific  to  reconciliation  related  from  he  his  sandler  in  having  because  joke  or  of  and  lets  her  for  it  is  you'd  of  you  it  is  import  br  selfish  comedy  think  conduct  little  of  you  blair  or  is  bomb  in  funny  comedy  think  awkward  was  same  as  you  rest  to  and  of  see  scientist  comments  it  of  him  depends  unfortunately  of  you  that  it  serious  for  skills  just  weaves  allusions  to  sidewalk  also  gun  who  as  you  \n",
      "\n",
      "Sentence  92 Adversarial\n",
      "opinion  sue  failing  lesson  terrific  to  of  of  from  bottom  mistake  sandler  in  having  because  joke  or  of  and  to  mistake  to  it  is  into  of  you  it  is  import  br  selfish  comedy  becomes  conduct  little  of  you  blair  or  is  bomb  in  becomes  comedy  think  to  was  same  as  you  rest  to  and  of  moment  scientist  comments  summoned  of  becomes  depends  unfortunately  of  you  to  it  serious  for  to  just  weaves  to  to  sidewalk  also  becomes  people  as  laughable  \n",
      "===========================================================================================================================================================\n",
      "\n",
      "Sentence  93 Original\n",
      "here  film  land  and  and  never  philip  to  made  emotional  in  ice  lot  br  be  literally  inspire  them  such  of  number  with  shock  her  sad  s  and  to  such  off  of  their  perfect  part  humour  was  woods  for  as  it  of  pops  br  of  pete's  original  getting  perhaps  wit  but  and  frame  to  writing  learns  i  i  then  character  that  course  what  have  did  think  because  br  of  pete's  characters  and  surprised  prefer  pete's  streep  i  i  pete's  later  didn't  \n",
      "\n",
      "Sentence  93 Adversarial\n",
      "here  people  of  and  and  laugh  philip  to  into  emotional  of  to  laugh  animate  bottom  already  is  becomes  into  of  number  with  to  people  people  other  and  to  such  off  of  their  people  part  humour  caroline  people  caroline  stills  summoned  of  to  br  of  pete's  real  people  perhaps  wit  but  and  frame  to  people  learns  i  jake's  then  character  to  course  moment  becomes  did  think  laugh  summoned  of  pete's  characters  and  surprised  to  pete's  streep  i  to  a  later  didn't  \n",
      "===========================================================================================================================================================\n",
      "\n",
      "Sentence  94 Original\n",
      "kudos  even  only  starts  curiously  was  lead  from  understanding  good  sense  are  of  guy  to  wont  that  are  him  excellent  instead  just  for  ralph  acid  was  into  why  for  that  strong  we  job  and  in  could  that  i'm  as  sound  another  br  past  best  is  very  rubbish  was  lead  series  when  involved  watch  is  go  no  dvd  different  of  every  was  mr  of  cliché  science  in  note  that  couple  nothing  also  movies  diminish  then  ad  cliché  if  are  if  too  \n",
      "\n",
      "Sentence  94 Adversarial\n",
      "kudos  even  only  starts  is  was  lead  from  understanding  good  real  are  of  guy  to  wont  that  are  becomes  excellent  instead  just  for  ralph  acid  was  into  why  to  that  people  we  job  and  in  could  that  i'm  as  sound  another  br  past  best  is  very  rubbish  was  lead  series  when  involved  laugh  is  go  moment  dvd  different  of  every  was  mr  of  cliché  people  in  note  that  couple  nothing  becomes  movies  diminish  then  ad  cliché  if  are  if  too  \n",
      "===========================================================================================================================================================\n",
      "\n",
      "Sentence  95 Original\n",
      "scares  some  in  feature  tv  or  of  deservedly  fun  ruins  to  which  up  surprisingly  been  and  it  be  help  like  it  director  not  is  progress  noise  of  chose  br  of  you  it  of  1978  paul  they  of  here  not  which  for  it  her  creditable  hitler  think  germany  that  2  one  walking  in  of  you  it  used  deserves  they  there's  as  on  way  but  is  time  makes  holiday  face  movie  private  to  of  people  is  him  together  minutes  played  br  that  \n",
      "\n",
      "Sentence  95 Adversarial\n",
      "scares  some  animate  feature  tv  bottom  of  deservedly  fun  is  to  which  up  surprisingly  been  and  it  be  help  like  it  already  not  is  progress  noise  of  chose  instructed  of  you  it  of  is  paul  they  of  here  not  which  for  it  her  creditable  to  think  germany  that  2  one  walking  in  of  you  it  used  deserves  they  there's  as  on  way  but  is  time  makes  to  face  movie  private  to  of  people  is  him  together  minutes  played  summoned  that  \n",
      "===========================================================================================================================================================\n",
      "\n",
      "Sentence  96 Original\n",
      "by  most  that  other  there  good  yet  br  showed  in  of  original  her  they  there's  bad  parts  can  is  intervenes  already  states  mother  by  performance  10  was  office  by  scenes  this  as  on  bad  best  can  is  american's  pick  is  1980s  or  make  those  reason  while  error  nothing  one  for  comments  not  was  with  time  due  his  wife  for  this  intervenes  either  bad  can  is  quite  br  1980s  post  really  with  of  see  very  10  was  couldn't  has  for  on  \n",
      "\n",
      "Sentence  96 Adversarial\n",
      "by  most  to  becomes  other  moment  yet  br  into  summoned  of  those  bottom  they  there's  already  parts  can  is  intervenes  already  of  people  by  performance  10  to  becomes  bottom  becomes  caroline  stills  people  bad  best  can  is  american's  already  is  to  people  becomes  becomes  i'm  becomes  to  nothing  people  for  becomes  mistake  is  with  moment  due  mistake  wife  to  to  to  people  people  into  is  quite  to  of  becomes  moment  to  of  see  very  becomes  was  people  people  caroline  mistake  \n",
      "===========================================================================================================================================================\n",
      "\n",
      "Sentence  97 Original\n",
      "of  jason  to  of  eye  chase  br  comes  idea  time  much  sci  who  rave  hoods  find  is  drugs  bit  on  for  see  as  seat  well  pay  watching  point  of  by  in  own  foot  in  only  women  to  whole  considering  are  really  characters  he  rape  br  league  to  no  from  air  we  what  jason  br  of  uniform  it  rape  was  stupid  any  if  rape  br  bus  as  on  it  its  but  woman  is  isn't  one  this  an  fact  on  and  child's  \n",
      "\n",
      "Sentence  97 Adversarial\n",
      "of  to  to  of  other  laugh  of  comes  idea  took  much  other  people  of  is  find  is  to  bit  mistake  stills  becomes  caroline  of  people  people  into  real  of  by  in  i'm  of  to  says  becomes  to  real  becomes  mistake  people  becomes  mistake  rape  br  of  to  becomes  bottom  becomes  people  what  to  to  of  of  to  to  to  people  any  took  to  animate  bus  caroline  mistake  it  becomes  mistake  woman  is  already  laughable  this  becomes  people  mistake  and  child's  \n",
      "===========================================================================================================================================================\n",
      "\n",
      "Sentence  98 Original\n",
      "this  is  late  like  he  from  to  when  of  core  off  from  one  in  people  film  last  to  as  notice  gal  little  low  for  apparently  little  gradually  production  for  himself  in  cassavetes  1995  was  then  two  from  look  people  not  of  tried  find  that  few  just  from  and  or  17  an  br  is  flesh  in  corny  my  secretary  when  off  was  sequence  i  i  typical  superb  but  older  it's  have  pretty  in  classic  to  considered  some  are  of  arms  tried  \n",
      "\n",
      "Sentence  98 Adversarial\n",
      "caroline  is  late  like  he  bottom  to  already  of  to  already  from  one  in  people  laughable  real  to  stills  is  gal  little  low  for  people  little  gradually  production  for  himself  in  cassavetes  of  caroline  people  two  from  look  becomes  into  of  people  find  to  few  becomes  into  and  or  to  people  instructed  is  to  in  to  my  to  into  becomes  caroline  sequence  to  jake's  typical  becomes  but  becomes  it's  have  pretty  in  classic  to  considered  some  are  of  arms  tried  \n",
      "===========================================================================================================================================================\n",
      "\n",
      "Sentence  99 Original\n",
      "film  an  of  gentleman  part  are  to  of  live  one  were  whose  packed  but  despite  net  is  savage  wilson  heard  additions  photography  and  to  beautiful  made  4  be  sounded  i  i  of  their  timely  film  is  theaters  digital  sort  is  maker  adaptation  if  is  him  motivation  but  of  and  ann  no  of  dismayed  he  things  and  that  out  thing  kid  and  it  thats  to  by  br  of  where  understand  this  of  on  to  also  animal  in  motivation  and  and  and  \n",
      "\n",
      "Sentence  99 Adversarial\n",
      "film  mistake  of  to  part  are  to  of  into  bottom  slow  laugh  is  mistake  people  to  is  to  of  heard  of  becomes  and  to  becomes  made  4  laughable  is  to  to  of  into  timely  becomes  is  theaters  to  people  is  to  people  people  is  becomes  of  people  of  and  ann  moment  of  a  mistake  those  and  to  people  thing  kid  and  summoned  to  to  mistake  is  of  people  already  to  of  mistake  to  people  animal  in  to  and  and  and  \n",
      "===========================================================================================================================================================\n",
      "\n"
     ]
    }
   ],
   "source": [
    "for i in range(len(adversarial_example)):\n",
    "  print('Sentence ',i,'Original')\n",
    "  \n",
    "  show_sentence(x_test_sub[i])\n",
    "\n",
    "  print('\\nSentence ',i,'Adversarial')\n",
    "\n",
    "  show_sentence(adversarial_example[i])\n",
    "\n",
    "  print('===========================================================================================================================================================\\n')"
   ]
  },
  {
   "cell_type": "markdown",
   "metadata": {
    "colab_type": "text",
    "id": "XPdMmLDDpCBt"
   },
   "source": [
    "###Results"
   ]
  },
  {
   "cell_type": "code",
   "execution_count": null,
   "metadata": {
    "colab": {
     "base_uri": "https://localhost:8080/",
     "height": 87
    },
    "colab_type": "code",
    "executionInfo": {
     "elapsed": 932,
     "status": "ok",
     "timestamp": 1588364295386,
     "user": {
      "displayName": "Wilgens Pierre",
      "photoUrl": "https://lh3.googleusercontent.com/a-/AOh14GgumIEKNfGbZlUccvDManEqHE3rhTkHXXrbF1KIKA=s64",
      "userId": "07241808474085975022"
     },
     "user_tz": 240
    },
    "id": "QhJd60sRm3yq",
    "outputId": "606b03ed-71c5-4f98-fbde-502e073a6fe9"
   },
   "outputs": [
    {
     "name": "stdout",
     "output_type": "stream",
     "text": [
      "4/4 [==============================] - 0s 38ms/step - loss: 0.7095 - accuracy: 0.8300\n",
      "[0.7095215320587158, 0.8299999833106995]\n",
      "4/4 [==============================] - 0s 38ms/step - loss: 0.8906 - accuracy: 0.6600\n",
      "[0.8905950784683228, 0.6600000262260437]\n"
     ]
    }
   ],
   "source": [
    "#testing model on adversarial examples\n",
    "print(model.evaluate(x_test_sub,y_test_sub,batch_size=batch_size))\n",
    "print(model.evaluate(adversarial_example, y_test_sub, batch_size=batch_size)) "
   ]
  }
 ],
 "metadata": {
  "accelerator": "GPU",
  "colab": {
   "collapsed_sections": [
    "7MeHKI2hHch_",
    "sMwMakT0HgCG",
    "_T3A8x_nH4SQ",
    "o5TpV5nHHhrl",
    "7129lB_bZWtk",
    "c0sBSFmho14f"
   ],
   "machine_shape": "hm",
   "name": " imdb_attack_improved.ipynb",
   "provenance": [
    {
     "file_id": "1TiDPFk19LuyIrsnl7x3p3m39kcrwPnCf",
     "timestamp": 1588367348851
    }
   ]
  },
  "kernelspec": {
   "display_name": "Python 3",
   "language": "python",
   "name": "python3"
  },
  "language_info": {
   "codemirror_mode": {
    "name": "ipython",
    "version": 3
   },
   "file_extension": ".py",
   "mimetype": "text/x-python",
   "name": "python",
   "nbconvert_exporter": "python",
   "pygments_lexer": "ipython3",
   "version": "3.7.7"
  }
 },
 "nbformat": 4,
 "nbformat_minor": 4
}
